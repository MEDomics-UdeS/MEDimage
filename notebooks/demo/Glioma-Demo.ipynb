{
 "cells": [
  {
   "cell_type": "markdown",
   "id": "ecdbaa79",
   "metadata": {},
   "source": [
    "# Glioma Demo − Radiomic Computations\n",
    "\n",
    "@Author : [MEDomics consortium](https://github.com/medomics/)\n",
    "\n",
    "@EMAIL : medomics.info@gmail.com"
   ]
  },
  {
   "cell_type": "markdown",
   "id": "05880d2d",
   "metadata": {},
   "source": [
    "**STATEMENT**:\n",
    "This file is part of <https://github.com/MEDomics/MEDomicsLab/>,\n",
    "a package providing PYTHON programming tools for radiomics analysis.\n",
    "--> Copyright (C) MEDomicsLab consortium."
   ]
  },
  {
   "cell_type": "markdown",
   "id": "e1df9d32",
   "metadata": {},
   "source": [
    "## Introduction\n",
    "\n",
    "We assume that you now understand the usage of most parts of the package. If that's not the case, we invite you to take a look at the available tutorials [here](https://medimage.readthedocs.io/en/latest/tutorials.html).\n",
    "\n",
    "This is a final notebook that demonstrates the usage of the ``MEDimage`` package for one scan. It is a final demo that shows in a brief way the flexibility and the versatility of the code in radiomics analysis. We will use a **[glioma TCGA](https://www.cancer.gov/about-nci/organization/ccg/research/structural-genomics/tcga)** cancer scan.\n",
    "\n",
    "**Extra**: This notebook also demonstrates an extra feature of ``MEDimage`` which is mask cropping (ROI boxing)  that could be useful for running radiomics analysis with a scan box around the ROI only instead of the full scan.\n"
   ]
  },
  {
   "cell_type": "markdown",
   "id": "f7e50565",
   "metadata": {},
   "source": [
    "## Dataset - Glioma TCGA MR image\n",
    "\n",
    "We are using an MRI scan, which is provided in the repository:\n",
    "\n",
    "Information about our scan:\n",
    " - **ID**: Glioma-TCGA-02-003\n",
    " - **Imaging scan name**: T1\n",
    " - **Modality**: MRscan\n",
    " - **Regions of interest**:\n",
    "     - Number of regions: 6\n",
    "     - Names of ROIs: ED, ET, NET, ED_M, ET_M and NET_M\n",
    "     - ROI name: {ED}+{ET}+{NET}"
   ]
  },
  {
   "cell_type": "code",
   "execution_count": 1,
   "id": "af05f061",
   "metadata": {},
   "outputs": [
    {
     "name": "stdout",
     "output_type": "stream",
     "text": [
      "PyCUDA is not installed. Please install it to use the textural filters.\n"
     ]
    },
    {
     "ename": "ImportError",
     "evalue": "cannot import name '_format_load_msg' from 'joblib.memory' (/home/local/USHERBROOKE/aitm2302/anaconda3/envs/testpypi/lib/python3.9/site-packages/joblib/memory.py)",
     "output_type": "error",
     "traceback": [
      "\u001b[0;31m---------------------------------------------------------------------------\u001b[0m",
      "\u001b[0;31mImportError\u001b[0m                               Traceback (most recent call last)",
      "Cell \u001b[0;32mIn[1], line 5\u001b[0m\n\u001b[1;32m      2\u001b[0m \u001b[38;5;28;01mimport\u001b[39;00m \u001b[38;5;21;01msys\u001b[39;00m\n\u001b[1;32m      3\u001b[0m \u001b[38;5;28;01mfrom\u001b[39;00m \u001b[38;5;21;01mpathlib\u001b[39;00m \u001b[38;5;28;01mimport\u001b[39;00m Path\n\u001b[0;32m----> 5\u001b[0m \u001b[38;5;28;01mimport\u001b[39;00m \u001b[38;5;21;01mMEDimage\u001b[39;00m\n\u001b[1;32m      6\u001b[0m \u001b[38;5;28;01mimport\u001b[39;00m \u001b[38;5;21;01mnumpy\u001b[39;00m \u001b[38;5;28;01mas\u001b[39;00m \u001b[38;5;21;01mnp\u001b[39;00m\n",
      "File \u001b[0;32m~/anaconda3/envs/testpypi/lib/python3.9/site-packages/MEDimage/__init__.py:8\u001b[0m\n\u001b[1;32m      6\u001b[0m \u001b[38;5;28;01mfrom\u001b[39;00m \u001b[38;5;21;01m.\u001b[39;00m \u001b[38;5;28;01mimport\u001b[39;00m filters\n\u001b[1;32m      7\u001b[0m \u001b[38;5;28;01mfrom\u001b[39;00m \u001b[38;5;21;01m.\u001b[39;00m \u001b[38;5;28;01mimport\u001b[39;00m wrangling\n\u001b[0;32m----> 8\u001b[0m \u001b[38;5;28;01mfrom\u001b[39;00m \u001b[38;5;21;01m.\u001b[39;00m \u001b[38;5;28;01mimport\u001b[39;00m learning\n\u001b[1;32m      9\u001b[0m \u001b[38;5;28;01mfrom\u001b[39;00m \u001b[38;5;21;01m.\u001b[39;00m\u001b[38;5;21;01mMEDscan\u001b[39;00m \u001b[38;5;28;01mimport\u001b[39;00m MEDscan\n\u001b[1;32m     12\u001b[0m stream_handler \u001b[38;5;241m=\u001b[39m logging\u001b[38;5;241m.\u001b[39mStreamHandler()\n",
      "File \u001b[0;32m~/anaconda3/envs/testpypi/lib/python3.9/site-packages/MEDimage/learning/__init__.py:8\u001b[0m\n\u001b[1;32m      6\u001b[0m \u001b[38;5;28;01mfrom\u001b[39;00m \u001b[38;5;21;01m.\u001b[39;00m\u001b[38;5;21;01mml_utils\u001b[39;00m \u001b[38;5;28;01mimport\u001b[39;00m \u001b[38;5;241m*\u001b[39m\n\u001b[1;32m      7\u001b[0m \u001b[38;5;28;01mfrom\u001b[39;00m \u001b[38;5;21;01m.\u001b[39;00m\u001b[38;5;21;01mNormalization\u001b[39;00m \u001b[38;5;28;01mimport\u001b[39;00m Normalization\n\u001b[0;32m----> 8\u001b[0m \u001b[38;5;28;01mfrom\u001b[39;00m \u001b[38;5;21;01m.\u001b[39;00m\u001b[38;5;21;01mRadiomicsLearner\u001b[39;00m \u001b[38;5;28;01mimport\u001b[39;00m RadiomicsLearner\n\u001b[1;32m      9\u001b[0m \u001b[38;5;28;01mfrom\u001b[39;00m \u001b[38;5;21;01m.\u001b[39;00m\u001b[38;5;21;01mResults\u001b[39;00m \u001b[38;5;28;01mimport\u001b[39;00m Results\n\u001b[1;32m     10\u001b[0m \u001b[38;5;28;01mfrom\u001b[39;00m \u001b[38;5;21;01m.\u001b[39;00m\u001b[38;5;21;01mStats\u001b[39;00m \u001b[38;5;28;01mimport\u001b[39;00m Stats\n",
      "File \u001b[0;32m~/anaconda3/envs/testpypi/lib/python3.9/site-packages/MEDimage/learning/RadiomicsLearner.py:11\u001b[0m\n\u001b[1;32m      9\u001b[0m \u001b[38;5;28;01mimport\u001b[39;00m \u001b[38;5;21;01mpandas\u001b[39;00m \u001b[38;5;28;01mas\u001b[39;00m \u001b[38;5;21;01mpd\u001b[39;00m\n\u001b[1;32m     10\u001b[0m \u001b[38;5;28;01mfrom\u001b[39;00m \u001b[38;5;21;01mnumpyencoder\u001b[39;00m \u001b[38;5;28;01mimport\u001b[39;00m NumpyEncoder\n\u001b[0;32m---> 11\u001b[0m \u001b[38;5;28;01mfrom\u001b[39;00m \u001b[38;5;21;01mpycaret\u001b[39;00m\u001b[38;5;21;01m.\u001b[39;00m\u001b[38;5;21;01mclassification\u001b[39;00m \u001b[38;5;28;01mimport\u001b[39;00m \u001b[38;5;241m*\u001b[39m\n\u001b[1;32m     12\u001b[0m \u001b[38;5;28;01mfrom\u001b[39;00m \u001b[38;5;21;01msklearn\u001b[39;00m \u001b[38;5;28;01mimport\u001b[39;00m metrics\n\u001b[1;32m     13\u001b[0m \u001b[38;5;28;01mfrom\u001b[39;00m \u001b[38;5;21;01msklearn\u001b[39;00m\u001b[38;5;21;01m.\u001b[39;00m\u001b[38;5;21;01mmodel_selection\u001b[39;00m \u001b[38;5;28;01mimport\u001b[39;00m GridSearchCV, RandomizedSearchCV\n",
      "File \u001b[0;32m~/anaconda3/envs/testpypi/lib/python3.9/site-packages/pycaret/classification/__init__.py:1\u001b[0m\n\u001b[0;32m----> 1\u001b[0m \u001b[38;5;28;01mfrom\u001b[39;00m \u001b[38;5;21;01mpycaret\u001b[39;00m\u001b[38;5;21;01m.\u001b[39;00m\u001b[38;5;21;01mclassification\u001b[39;00m\u001b[38;5;21;01m.\u001b[39;00m\u001b[38;5;21;01mfunctional\u001b[39;00m \u001b[38;5;28;01mimport\u001b[39;00m (\n\u001b[1;32m      2\u001b[0m     add_metric,\n\u001b[1;32m      3\u001b[0m     automl,\n\u001b[1;32m      4\u001b[0m     blend_models,\n\u001b[1;32m      5\u001b[0m     calibrate_model,\n\u001b[1;32m      6\u001b[0m     check_drift,\n\u001b[1;32m      7\u001b[0m     check_fairness,\n\u001b[1;32m      8\u001b[0m     compare_models,\n\u001b[1;32m      9\u001b[0m     convert_model,\n\u001b[1;32m     10\u001b[0m     create_api,\n\u001b[1;32m     11\u001b[0m     create_app,\n\u001b[1;32m     12\u001b[0m     create_docker,\n\u001b[1;32m     13\u001b[0m     create_model,\n\u001b[1;32m     14\u001b[0m     dashboard,\n\u001b[1;32m     15\u001b[0m     deploy_model,\n\u001b[1;32m     16\u001b[0m     ensemble_model,\n\u001b[1;32m     17\u001b[0m     evaluate_model,\n\u001b[1;32m     18\u001b[0m     finalize_model,\n\u001b[1;32m     19\u001b[0m     get_allowed_engines,\n\u001b[1;32m     20\u001b[0m     get_config,\n\u001b[1;32m     21\u001b[0m     get_current_experiment,\n\u001b[1;32m     22\u001b[0m     get_engine,\n\u001b[1;32m     23\u001b[0m     get_leaderboard,\n\u001b[1;32m     24\u001b[0m     get_logs,\n\u001b[1;32m     25\u001b[0m     get_metrics,\n\u001b[1;32m     26\u001b[0m     interpret_model,\n\u001b[1;32m     27\u001b[0m     load_experiment,\n\u001b[1;32m     28\u001b[0m     load_model,\n\u001b[1;32m     29\u001b[0m     models,\n\u001b[1;32m     30\u001b[0m     optimize_threshold,\n\u001b[1;32m     31\u001b[0m     plot_model,\n\u001b[1;32m     32\u001b[0m     predict_model,\n\u001b[1;32m     33\u001b[0m     pull,\n\u001b[1;32m     34\u001b[0m     remove_metric,\n\u001b[1;32m     35\u001b[0m     save_experiment,\n\u001b[1;32m     36\u001b[0m     save_model,\n\u001b[1;32m     37\u001b[0m     set_config,\n\u001b[1;32m     38\u001b[0m     set_current_experiment,\n\u001b[1;32m     39\u001b[0m     setup,\n\u001b[1;32m     40\u001b[0m     stack_models,\n\u001b[1;32m     41\u001b[0m     tune_model,\n\u001b[1;32m     42\u001b[0m )\n\u001b[1;32m     43\u001b[0m \u001b[38;5;28;01mfrom\u001b[39;00m \u001b[38;5;21;01mpycaret\u001b[39;00m\u001b[38;5;21;01m.\u001b[39;00m\u001b[38;5;21;01mclassification\u001b[39;00m\u001b[38;5;21;01m.\u001b[39;00m\u001b[38;5;21;01moop\u001b[39;00m \u001b[38;5;28;01mimport\u001b[39;00m ClassificationExperiment\n\u001b[1;32m     45\u001b[0m __all__ \u001b[38;5;241m=\u001b[39m [\n\u001b[1;32m     46\u001b[0m     \u001b[38;5;124m\"\u001b[39m\u001b[38;5;124mClassificationExperiment\u001b[39m\u001b[38;5;124m\"\u001b[39m,\n\u001b[1;32m     47\u001b[0m     \u001b[38;5;124m\"\u001b[39m\u001b[38;5;124msetup\u001b[39m\u001b[38;5;124m\"\u001b[39m,\n\u001b[0;32m   (...)\u001b[0m\n\u001b[1;32m     86\u001b[0m     \u001b[38;5;124m\"\u001b[39m\u001b[38;5;124mcheck_drift\u001b[39m\u001b[38;5;124m\"\u001b[39m,\n\u001b[1;32m     87\u001b[0m ]\n",
      "File \u001b[0;32m~/anaconda3/envs/testpypi/lib/python3.9/site-packages/pycaret/classification/functional.py:8\u001b[0m\n\u001b[1;32m      5\u001b[0m \u001b[38;5;28;01mimport\u001b[39;00m \u001b[38;5;21;01mpandas\u001b[39;00m \u001b[38;5;28;01mas\u001b[39;00m \u001b[38;5;21;01mpd\u001b[39;00m\n\u001b[1;32m      6\u001b[0m \u001b[38;5;28;01mfrom\u001b[39;00m \u001b[38;5;21;01mjoblib\u001b[39;00m\u001b[38;5;21;01m.\u001b[39;00m\u001b[38;5;21;01mmemory\u001b[39;00m \u001b[38;5;28;01mimport\u001b[39;00m Memory\n\u001b[0;32m----> 8\u001b[0m \u001b[38;5;28;01mfrom\u001b[39;00m \u001b[38;5;21;01mpycaret\u001b[39;00m\u001b[38;5;21;01m.\u001b[39;00m\u001b[38;5;21;01mclassification\u001b[39;00m\u001b[38;5;21;01m.\u001b[39;00m\u001b[38;5;21;01moop\u001b[39;00m \u001b[38;5;28;01mimport\u001b[39;00m ClassificationExperiment\n\u001b[1;32m      9\u001b[0m \u001b[38;5;28;01mfrom\u001b[39;00m \u001b[38;5;21;01mpycaret\u001b[39;00m\u001b[38;5;21;01m.\u001b[39;00m\u001b[38;5;21;01minternal\u001b[39;00m\u001b[38;5;21;01m.\u001b[39;00m\u001b[38;5;21;01mparallel\u001b[39;00m\u001b[38;5;21;01m.\u001b[39;00m\u001b[38;5;21;01mparallel_backend\u001b[39;00m \u001b[38;5;28;01mimport\u001b[39;00m ParallelBackend\n\u001b[1;32m     10\u001b[0m \u001b[38;5;28;01mfrom\u001b[39;00m \u001b[38;5;21;01mpycaret\u001b[39;00m\u001b[38;5;21;01m.\u001b[39;00m\u001b[38;5;21;01mloggers\u001b[39;00m\u001b[38;5;21;01m.\u001b[39;00m\u001b[38;5;21;01mbase_logger\u001b[39;00m \u001b[38;5;28;01mimport\u001b[39;00m BaseLogger\n",
      "File \u001b[0;32m~/anaconda3/envs/testpypi/lib/python3.9/site-packages/pycaret/classification/oop.py:31\u001b[0m\n\u001b[1;32m     29\u001b[0m \u001b[38;5;28;01mfrom\u001b[39;00m \u001b[38;5;21;01mpycaret\u001b[39;00m\u001b[38;5;21;01m.\u001b[39;00m\u001b[38;5;21;01minternal\u001b[39;00m\u001b[38;5;21;01m.\u001b[39;00m\u001b[38;5;21;01mpipeline\u001b[39;00m \u001b[38;5;28;01mimport\u001b[39;00m Pipeline \u001b[38;5;28;01mas\u001b[39;00m InternalPipeline\n\u001b[1;32m     30\u001b[0m \u001b[38;5;28;01mfrom\u001b[39;00m \u001b[38;5;21;01mpycaret\u001b[39;00m\u001b[38;5;21;01m.\u001b[39;00m\u001b[38;5;21;01minternal\u001b[39;00m\u001b[38;5;21;01m.\u001b[39;00m\u001b[38;5;21;01mpreprocess\u001b[39;00m\u001b[38;5;21;01m.\u001b[39;00m\u001b[38;5;21;01mpreprocessor\u001b[39;00m \u001b[38;5;28;01mimport\u001b[39;00m Preprocessor\n\u001b[0;32m---> 31\u001b[0m \u001b[38;5;28;01mfrom\u001b[39;00m \u001b[38;5;21;01mpycaret\u001b[39;00m\u001b[38;5;21;01m.\u001b[39;00m\u001b[38;5;21;01minternal\u001b[39;00m\u001b[38;5;21;01m.\u001b[39;00m\u001b[38;5;21;01mpycaret_experiment\u001b[39;00m\u001b[38;5;21;01m.\u001b[39;00m\u001b[38;5;21;01mnon_ts_supervised_experiment\u001b[39;00m \u001b[38;5;28;01mimport\u001b[39;00m (\n\u001b[1;32m     32\u001b[0m     _NonTSSupervisedExperiment,\n\u001b[1;32m     33\u001b[0m )\n\u001b[1;32m     34\u001b[0m \u001b[38;5;28;01mfrom\u001b[39;00m \u001b[38;5;21;01mpycaret\u001b[39;00m\u001b[38;5;21;01m.\u001b[39;00m\u001b[38;5;21;01minternal\u001b[39;00m\u001b[38;5;21;01m.\u001b[39;00m\u001b[38;5;21;01mvalidation\u001b[39;00m \u001b[38;5;28;01mimport\u001b[39;00m is_sklearn_cv_generator\n\u001b[1;32m     35\u001b[0m \u001b[38;5;28;01mfrom\u001b[39;00m \u001b[38;5;21;01mpycaret\u001b[39;00m\u001b[38;5;21;01m.\u001b[39;00m\u001b[38;5;21;01mloggers\u001b[39;00m\u001b[38;5;21;01m.\u001b[39;00m\u001b[38;5;21;01mbase_logger\u001b[39;00m \u001b[38;5;28;01mimport\u001b[39;00m BaseLogger\n",
      "File \u001b[0;32m~/anaconda3/envs/testpypi/lib/python3.9/site-packages/pycaret/internal/pycaret_experiment/non_ts_supervised_experiment.py:3\u001b[0m\n\u001b[1;32m      1\u001b[0m \u001b[38;5;28;01mimport\u001b[39;00m \u001b[38;5;21;01mpandas\u001b[39;00m \u001b[38;5;28;01mas\u001b[39;00m \u001b[38;5;21;01mpd\u001b[39;00m\n\u001b[0;32m----> 3\u001b[0m \u001b[38;5;28;01mfrom\u001b[39;00m \u001b[38;5;21;01mpycaret\u001b[39;00m\u001b[38;5;21;01m.\u001b[39;00m\u001b[38;5;21;01minternal\u001b[39;00m\u001b[38;5;21;01m.\u001b[39;00m\u001b[38;5;21;01mpycaret_experiment\u001b[39;00m\u001b[38;5;21;01m.\u001b[39;00m\u001b[38;5;21;01msupervised_experiment\u001b[39;00m \u001b[38;5;28;01mimport\u001b[39;00m (\n\u001b[1;32m      4\u001b[0m     _SupervisedExperiment,\n\u001b[1;32m      5\u001b[0m )\n\u001b[1;32m      8\u001b[0m \u001b[38;5;28;01mclass\u001b[39;00m \u001b[38;5;21;01m_NonTSSupervisedExperiment\u001b[39;00m(_SupervisedExperiment):\n\u001b[1;32m      9\u001b[0m     \u001b[38;5;28;01mdef\u001b[39;00m \u001b[38;5;21m__init__\u001b[39m(\u001b[38;5;28mself\u001b[39m) \u001b[38;5;241m-\u001b[39m\u001b[38;5;241m>\u001b[39m \u001b[38;5;28;01mNone\u001b[39;00m:\n",
      "File \u001b[0;32m~/anaconda3/envs/testpypi/lib/python3.9/site-packages/pycaret/internal/pycaret_experiment/supervised_experiment.py:57\u001b[0m\n\u001b[1;32m     50\u001b[0m \u001b[38;5;28;01mfrom\u001b[39;00m \u001b[38;5;21;01mpycaret\u001b[39;00m\u001b[38;5;21;01m.\u001b[39;00m\u001b[38;5;21;01minternal\u001b[39;00m\u001b[38;5;21;01m.\u001b[39;00m\u001b[38;5;21;01mpatches\u001b[39;00m\u001b[38;5;21;01m.\u001b[39;00m\u001b[38;5;21;01msklearn\u001b[39;00m \u001b[38;5;28;01mimport\u001b[39;00m fit_and_score \u001b[38;5;28;01mas\u001b[39;00m fs\n\u001b[1;32m     51\u001b[0m \u001b[38;5;28;01mfrom\u001b[39;00m \u001b[38;5;21;01mpycaret\u001b[39;00m\u001b[38;5;21;01m.\u001b[39;00m\u001b[38;5;21;01minternal\u001b[39;00m\u001b[38;5;21;01m.\u001b[39;00m\u001b[38;5;21;01mpipeline\u001b[39;00m \u001b[38;5;28;01mimport\u001b[39;00m (\n\u001b[1;32m     52\u001b[0m     Pipeline,\n\u001b[1;32m     53\u001b[0m     estimator_pipeline,\n\u001b[1;32m     54\u001b[0m     get_pipeline_estimator_label,\n\u001b[1;32m     55\u001b[0m     get_pipeline_fit_kwargs,\n\u001b[1;32m     56\u001b[0m )\n\u001b[0;32m---> 57\u001b[0m \u001b[38;5;28;01mfrom\u001b[39;00m \u001b[38;5;21;01mpycaret\u001b[39;00m\u001b[38;5;21;01m.\u001b[39;00m\u001b[38;5;21;01minternal\u001b[39;00m\u001b[38;5;21;01m.\u001b[39;00m\u001b[38;5;21;01mpycaret_experiment\u001b[39;00m\u001b[38;5;21;01m.\u001b[39;00m\u001b[38;5;21;01mtabular_experiment\u001b[39;00m \u001b[38;5;28;01mimport\u001b[39;00m _TabularExperiment\n\u001b[1;32m     58\u001b[0m \u001b[38;5;28;01mfrom\u001b[39;00m \u001b[38;5;21;01mpycaret\u001b[39;00m\u001b[38;5;21;01m.\u001b[39;00m\u001b[38;5;21;01minternal\u001b[39;00m\u001b[38;5;21;01m.\u001b[39;00m\u001b[38;5;21;01mtunable\u001b[39;00m \u001b[38;5;28;01mimport\u001b[39;00m TunableMixin\n\u001b[1;32m     59\u001b[0m \u001b[38;5;28;01mfrom\u001b[39;00m \u001b[38;5;21;01mpycaret\u001b[39;00m\u001b[38;5;21;01m.\u001b[39;00m\u001b[38;5;21;01minternal\u001b[39;00m\u001b[38;5;21;01m.\u001b[39;00m\u001b[38;5;21;01mvalidation\u001b[39;00m \u001b[38;5;28;01mimport\u001b[39;00m is_fitted, is_sklearn_cv_generator\n",
      "File \u001b[0;32m~/anaconda3/envs/testpypi/lib/python3.9/site-packages/pycaret/internal/pycaret_experiment/tabular_experiment.py:29\u001b[0m\n\u001b[1;32m     27\u001b[0m \u001b[38;5;28;01mfrom\u001b[39;00m \u001b[38;5;21;01mpycaret\u001b[39;00m\u001b[38;5;21;01m.\u001b[39;00m\u001b[38;5;21;01minternal\u001b[39;00m\u001b[38;5;21;01m.\u001b[39;00m\u001b[38;5;21;01mdisplay\u001b[39;00m \u001b[38;5;28;01mimport\u001b[39;00m CommonDisplay\n\u001b[1;32m     28\u001b[0m \u001b[38;5;28;01mfrom\u001b[39;00m \u001b[38;5;21;01mpycaret\u001b[39;00m\u001b[38;5;21;01m.\u001b[39;00m\u001b[38;5;21;01minternal\u001b[39;00m\u001b[38;5;21;01m.\u001b[39;00m\u001b[38;5;21;01mlogging\u001b[39;00m \u001b[38;5;28;01mimport\u001b[39;00m create_logger, get_logger, redirect_output\n\u001b[0;32m---> 29\u001b[0m \u001b[38;5;28;01mfrom\u001b[39;00m \u001b[38;5;21;01mpycaret\u001b[39;00m\u001b[38;5;21;01m.\u001b[39;00m\u001b[38;5;21;01minternal\u001b[39;00m\u001b[38;5;21;01m.\u001b[39;00m\u001b[38;5;21;01mmemory\u001b[39;00m \u001b[38;5;28;01mimport\u001b[39;00m get_memory\n\u001b[1;32m     30\u001b[0m \u001b[38;5;28;01mfrom\u001b[39;00m \u001b[38;5;21;01mpycaret\u001b[39;00m\u001b[38;5;21;01m.\u001b[39;00m\u001b[38;5;21;01minternal\u001b[39;00m\u001b[38;5;21;01m.\u001b[39;00m\u001b[38;5;21;01mpipeline\u001b[39;00m \u001b[38;5;28;01mimport\u001b[39;00m Pipeline \u001b[38;5;28;01mas\u001b[39;00m InternalPipeline\n\u001b[1;32m     31\u001b[0m \u001b[38;5;28;01mfrom\u001b[39;00m \u001b[38;5;21;01mpycaret\u001b[39;00m\u001b[38;5;21;01m.\u001b[39;00m\u001b[38;5;21;01minternal\u001b[39;00m\u001b[38;5;21;01m.\u001b[39;00m\u001b[38;5;21;01mplots\u001b[39;00m\u001b[38;5;21;01m.\u001b[39;00m\u001b[38;5;21;01mhelper\u001b[39;00m \u001b[38;5;28;01mimport\u001b[39;00m MatplotlibDefaultDPI\n",
      "File \u001b[0;32m~/anaconda3/envs/testpypi/lib/python3.9/site-packages/pycaret/internal/memory.py:25\u001b[0m\n\u001b[1;32m     22\u001b[0m \u001b[38;5;28;01mfrom\u001b[39;00m \u001b[38;5;21;01mtyping\u001b[39;00m \u001b[38;5;28;01mimport\u001b[39;00m TYPE_CHECKING, Union\n\u001b[1;32m     24\u001b[0m \u001b[38;5;28;01mfrom\u001b[39;00m \u001b[38;5;21;01mjoblib\u001b[39;00m\u001b[38;5;21;01m.\u001b[39;00m\u001b[38;5;21;01mhashing\u001b[39;00m \u001b[38;5;28;01mimport\u001b[39;00m Hasher, Pickler\n\u001b[0;32m---> 25\u001b[0m \u001b[38;5;28;01mfrom\u001b[39;00m \u001b[38;5;21;01mjoblib\u001b[39;00m\u001b[38;5;21;01m.\u001b[39;00m\u001b[38;5;21;01mmemory\u001b[39;00m \u001b[38;5;28;01mimport\u001b[39;00m (\n\u001b[1;32m     26\u001b[0m     MemorizedFunc,\n\u001b[1;32m     27\u001b[0m     MemorizedResult,\n\u001b[1;32m     28\u001b[0m     Memory,\n\u001b[1;32m     29\u001b[0m     NotMemorizedResult,\n\u001b[1;32m     30\u001b[0m     _format_load_msg,\n\u001b[1;32m     31\u001b[0m     filter_args,\n\u001b[1;32m     32\u001b[0m     format_call,\n\u001b[1;32m     33\u001b[0m     format_signature,\n\u001b[1;32m     34\u001b[0m     format_time,\n\u001b[1;32m     35\u001b[0m     get_func_name,\n\u001b[1;32m     36\u001b[0m )\n\u001b[1;32m     37\u001b[0m \u001b[38;5;28;01mfrom\u001b[39;00m \u001b[38;5;21;01mxxhash\u001b[39;00m \u001b[38;5;28;01mimport\u001b[39;00m xxh128 \u001b[38;5;28;01mas\u001b[39;00m xxh\n\u001b[1;32m     39\u001b[0m \u001b[38;5;28;01mtry\u001b[39;00m:\n",
      "\u001b[0;31mImportError\u001b[0m: cannot import name '_format_load_msg' from 'joblib.memory' (/home/local/USHERBROOKE/aitm2302/anaconda3/envs/testpypi/lib/python3.9/site-packages/joblib/memory.py)"
     ]
    }
   ],
   "source": [
    "import os\n",
    "import sys\n",
    "from pathlib import Path\n",
    "\n",
    "import MEDimage\n",
    "import numpy as np"
   ]
  },
  {
   "cell_type": "markdown",
   "id": "116e570a",
   "metadata": {},
   "source": [
    "## Initialization\n",
    "\n",
    "Initializing ``MEDscan`` class by loading an existent pickle object (instance of the class) saved locally."
   ]
  },
  {
   "cell_type": "code",
   "execution_count": null,
   "id": "bcb661b0",
   "metadata": {},
   "outputs": [],
   "source": [
    "import pickle\n",
    "\n",
    "path_data = Path(os.getcwd()) / 'data' / 'Glioma-TCGA-02-0003__T1.MRscan.npy'\n",
    "with open(path_data, 'rb') as f: medscan = pickle.load(f)\n",
    "medscan = MEDimage.MEDscan(medscan)"
   ]
  },
  {
   "cell_type": "markdown",
   "id": "b136a4b3",
   "metadata": {},
   "source": [
    "As explained in other tutorials, the parameter initialization uses a Dictionary and ``MEDscan`` class method ``init_params`` that takes the dict as an input argument and organize all parameters in class attributes which make them easy to manipulate. But you can skip this part and hard-code your parameters for each method which is the case for this demo."
   ]
  },
  {
   "cell_type": "markdown",
   "id": "6e01289b",
   "metadata": {},
   "source": [
    "## Features extraction demonstration"
   ]
  },
  {
   "cell_type": "markdown",
   "id": "545c805b",
   "metadata": {},
   "source": [
    "As always, the first step in radiomics analysis to create the ROI (region of interest)"
   ]
  },
  {
   "cell_type": "code",
   "execution_count": null,
   "id": "b905c572",
   "metadata": {},
   "outputs": [],
   "source": [
    "vol_obj_init, roi_obj_init = MEDimage.processing.get_roi_from_indexes(\n",
    "            medscan,\n",
    "            name_roi='{ED}+{ET}+{NET}',\n",
    "            box_string='full')"
   ]
  },
  {
   "cell_type": "markdown",
   "id": "c8b39ad7",
   "metadata": {},
   "source": [
    "Some features do not need any pre-processing and can be extracted directly from imaging data like:\n",
    "- Local intensity features extraction"
   ]
  },
  {
   "cell_type": "code",
   "execution_count": null,
   "id": "40fcdead",
   "metadata": {},
   "outputs": [],
   "source": [
    "local_intensity = MEDimage.biomarkers.local_intensity.extract_all(\n",
    "                img_obj=vol_obj_init.data,\n",
    "                roi_obj=roi_obj_init.data,\n",
    "                res=[2, 2, 3]\n",
    "            )"
   ]
  },
  {
   "cell_type": "markdown",
   "id": "19cb3896",
   "metadata": {},
   "source": [
    "You can also compute certain features from every feature family instead of extarcting all of them just by specifying its name. For example in the local intensity family we can extarct the local intensity peak feature only by running:"
   ]
  },
  {
   "cell_type": "code",
   "execution_count": null,
   "id": "975a791c",
   "metadata": {},
   "outputs": [],
   "source": [
    "local_intensity_peak = MEDimage.biomarkers.local_intensity.peak_local(\n",
    "                img_obj=vol_obj_init.data,\n",
    "                roi_obj=roi_obj_init.data,\n",
    "                res=[2, 2, 3]\n",
    "            )"
   ]
  },
  {
   "cell_type": "markdown",
   "id": "365eb8c7",
   "metadata": {},
   "source": [
    "- Interpolation: Use subpackage ``processing`` and method ``interp_volume``"
   ]
  },
  {
   "cell_type": "code",
   "execution_count": null,
   "id": "3982b4ab",
   "metadata": {},
   "outputs": [],
   "source": [
    "# Interpolation\n",
    "# Intensity Mask\n",
    "vol_obj = MEDimage.processing.interp_volume(\n",
    "    vol_obj_s=vol_obj_init,\n",
    "    roi_obj_s=roi_obj_init,\n",
    "    vox_dim=[2, 2, 3],\n",
    "    interp_met=\"linear\",\n",
    "    round_val=[],\n",
    "    image_type=\"image\",\n",
    "    box_string=\"full\"\n",
    ")\n",
    "# Morphological Mask\n",
    "roi_obj_morph = MEDimage.processing.interp_volume(\n",
    "    vol_obj_s=roi_obj_init,\n",
    "    roi_obj_s=roi_obj_init,\n",
    "    vox_dim=[2, 2, 3],\n",
    "    interp_met=\"linear\",\n",
    "    round_val=0.5,\n",
    "    image_type=\"roi\",\n",
    "    box_string=\"full\"\n",
    ")"
   ]
  },
  {
   "cell_type": "markdown",
   "id": "2e223cb6",
   "metadata": {},
   "source": [
    "- Re-segmentation: \n",
    "    - Range re-segmentation: Use subpackage ``processing`` and method ``range_re_seg``\n",
    "    - Outlier re-segmentation: Use subpackage ``processing`` and method ``outlier_re_seg``"
   ]
  },
  {
   "cell_type": "code",
   "execution_count": null,
   "id": "9ed982ae",
   "metadata": {},
   "outputs": [],
   "source": [
    "from copy import deepcopy\n",
    "\n",
    "# Re-segmentation\n",
    "# Intensity mask range re-segmentation\n",
    "roi_obj_int = deepcopy(roi_obj_morph)\n",
    "roi_obj_int.data = MEDimage.processing.range_re_seg(\n",
    "    vol=vol_obj.data, \n",
    "    roi=roi_obj_int.data,\n",
    "    im_range=[-500, 400]\n",
    ")\n",
    "# Intensity mask outlier re-segmentation\n",
    "roi_obj_int.data = np.logical_and(\n",
    "    MEDimage.processing.outlier_re_seg(\n",
    "        vol=vol_obj.data, \n",
    "        roi=roi_obj_int.data, \n",
    "        outliers=''\n",
    "    ),\n",
    "    roi_obj_int.data\n",
    ").astype(int)"
   ]
  },
  {
   "cell_type": "markdown",
   "id": "c654aefa",
   "metadata": {},
   "source": [
    "- ROI extraction: Use subpackage ``processing`` and method ``roi_extract``"
   ]
  },
  {
   "cell_type": "code",
   "execution_count": null,
   "id": "97dd287c",
   "metadata": {},
   "outputs": [],
   "source": [
    "vol_int_re = MEDimage.processing.roi_extract(\n",
    "    vol=vol_obj.data, \n",
    "    roi=roi_obj_int.data\n",
    ")"
   ]
  },
  {
   "cell_type": "markdown",
   "id": "ed77a4a9",
   "metadata": {},
   "source": [
    "- Statistical features extraction: Use subpackage ``biomarkers``, module ``stats`` and method ``extract_all``"
   ]
  },
  {
   "cell_type": "code",
   "execution_count": null,
   "id": "1983e641",
   "metadata": {},
   "outputs": [],
   "source": [
    "stats = MEDimage.biomarkers.stats.extract_all(vol=vol_int_re)"
   ]
  },
  {
   "cell_type": "markdown",
   "id": "49b73ea5",
   "metadata": {},
   "source": [
    "- Texture features extraction: \n",
    "    - GLCM (Grey level co-occurrence matrix based features): Use subpackage ``biomarkers``, module ``glcm`` and method ``extract_all``"
   ]
  },
  {
   "cell_type": "code",
   "execution_count": null,
   "id": "c0b50912",
   "metadata": {},
   "outputs": [],
   "source": [
    "glcm = MEDimage.biomarkers.glcm.extract_all(\n",
    "        vol=vol_int_re, \n",
    "        dist_correction=False\n",
    "    )\n",
    "glcm"
   ]
  },
  {
   "cell_type": "markdown",
   "id": "57594470",
   "metadata": {},
   "source": [
    "- Texture features single-extraction: \n",
    "    - GLCM (Grey level co-occurrence matrix based features): As mentioned before, you can extract features of your choice from any features family just by using their name, but this process is different for matrix-based features because the matrix needs to be computed before extracting the selected features in order to avoid repeated calculation of the matrix. Here is an example for GLCM:"
   ]
  },
  {
   "cell_type": "code",
   "execution_count": null,
   "id": "20ffaf9c",
   "metadata": {},
   "outputs": [],
   "source": [
    "# Computation of GLCM matrix\n",
    "glc_matrix = MEDimage.biomarkers.glcm.get_glcm_matrices(vol_int_re)\n",
    "# Extraction of joint maximum feature\n",
    "joint_max = MEDimage.biomarkers.glcm.joint_max(glc_matrix)\n",
    "# Extraction of joint average feature\n",
    "joint_avg = MEDimage.biomarkers.glcm.joint_avg(glc_matrix)\n",
    "joint_max, joint_avg"
   ]
  },
  {
   "cell_type": "markdown",
   "id": "c7f0dfdf",
   "metadata": {},
   "source": [
    "And logically we should have the same values whether we have used single extraction or family extraction. In a nutshell, processing and features extraction are pretty easy, just make sure you use the correct arguments and respect the order of the radiomics pipeline."
   ]
  },
  {
   "cell_type": "markdown",
   "id": "af399739",
   "metadata": {},
   "source": [
    "## Features extraction from filtered image"
   ]
  },
  {
   "cell_type": "markdown",
   "id": "fad73cd9",
   "metadata": {},
   "source": [
    "The filters subpackage offers a useful tool for medical image filtering with a family of commonly used filters for the radiomics analysis. the following example, shows image filtering using ``Laws`` filter."
   ]
  },
  {
   "cell_type": "code",
   "execution_count": null,
   "id": "0f77fc8a",
   "metadata": {},
   "outputs": [],
   "source": [
    "vol_obj = MEDimage.filters.apply_laws(\n",
    "                        input_images=vol_obj,\n",
    "                        config=[\"E3\", \"W5\", \"R5\"],\n",
    "                        padding=\"symmetric\",\n",
    "                        rot_invariance=False,\n",
    "                        energy_image=False)"
   ]
  },
  {
   "cell_type": "markdown",
   "id": "0bd62db7",
   "metadata": {},
   "source": [
    "We now have our new filtered image and we can use it to compute any radiomic feature as we do for any other data."
   ]
  },
  {
   "cell_type": "code",
   "execution_count": null,
   "id": "0e1d6630",
   "metadata": {},
   "outputs": [],
   "source": [
    "peak_local_intensity = MEDimage.biomarkers.local_intensity.peak_local(\n",
    "                img_obj=vol_obj.data,\n",
    "                roi_obj=vol_obj.data,\n",
    "                res=[2, 2, 3]\n",
    "            )\n",
    "peak_local_intensity"
   ]
  },
  {
   "cell_type": "markdown",
   "id": "187a0d7b",
   "metadata": {},
   "source": [
    "## Image & Mask cropping - Box creation"
   ]
  },
  {
   "cell_type": "markdown",
   "id": "14256c08",
   "metadata": {},
   "source": [
    "In this section we will demonstrate how you can crop the image & the mask and generate a bounding box centered around the ROI with a specific cropping shape. This can be done using the method *crop_box()* in the processing sub-module. A cropped box serves the same purposes as the full imaging volume."
   ]
  },
  {
   "cell_type": "markdown",
   "id": "eba72dcd",
   "metadata": {},
   "source": [
    "Visualize imaging data before cropping"
   ]
  },
  {
   "cell_type": "code",
   "execution_count": null,
   "id": "23ab55ef",
   "metadata": {},
   "outputs": [],
   "source": [
    "import matplotlib.pyplot as plt\n",
    "\n",
    "\n",
    "_slice = 65 # index of slice that will be plotted\n",
    "plt.figure(figsize=(8,8))\n",
    "plt.subplot(2, 1, 1)\n",
    "plt.axis('off')\n",
    "plt.imshow(vol_obj_init.data[:, :, _slice], cmap='gray')\n",
    "plt.contour(roi_obj_init.data[:, :, _slice], colors='red', linewidths=0.4, origin='lower', alpha=0.5)\n",
    "plt.subplot(2, 1, 2)\n",
    "plt.axis('off')\n",
    "plt.imshow(roi_obj_init.data[:, :, _slice], cmap='gray')\n",
    "plt.show()"
   ]
  },
  {
   "cell_type": "markdown",
   "id": "8b23a6fd",
   "metadata": {},
   "source": [
    "Let's now specify the cropping shape and call the cropping method. You can use *compute_bounding_box* method in *processing* module to help you decide the shape of the box."
   ]
  },
  {
   "cell_type": "code",
   "execution_count": null,
   "id": "95a6de39",
   "metadata": {
    "scrolled": true
   },
   "outputs": [],
   "source": [
    "# crop the initial imaging data\n",
    "crop_shape = [56, 122, 82] # All elements of crop_shape must be an even number (in voxels not in mm)\n",
    "new_image, new_roi = MEDimage.processing.crop_box(vol_obj_init.data, roi_obj_init.data, crop_shape)"
   ]
  },
  {
   "cell_type": "markdown",
   "id": "974c81f4",
   "metadata": {},
   "source": [
    "Visualize the cropped box"
   ]
  },
  {
   "cell_type": "code",
   "execution_count": null,
   "id": "2fadee07",
   "metadata": {},
   "outputs": [],
   "source": [
    "_slice = 30 # index of slice that will be plotted\n",
    "plt.figure(figsize=(8,8))\n",
    "plt.subplot(2, 1, 1)\n",
    "plt.axis('off')\n",
    "plt.imshow(new_image[:, :, _slice], cmap='gray')\n",
    "plt.contour(new_roi[:, :, _slice], colors='red', linewidths=0.4, origin='lower', alpha=0.5)\n",
    "plt.subplot(2, 1, 2)\n",
    "plt.axis('off')\n",
    "plt.imshow(new_roi[:, :, _slice], cmap='gray')\n",
    "plt.show()"
   ]
  },
  {
   "cell_type": "markdown",
   "id": "7a9019fb",
   "metadata": {},
   "source": [
    "## Bonus: using the cropped box to compute radiomics"
   ]
  },
  {
   "cell_type": "markdown",
   "id": "ff839675",
   "metadata": {},
   "source": [
    "The created box can serve for the same purposes as the full image volume, as long as the full ROI is included in the cropped box (by choosing the right crop shape). Without processing, let's try to extract some basic features."
   ]
  },
  {
   "cell_type": "markdown",
   "id": "0d8aaa18",
   "metadata": {},
   "source": [
    "Update the imaging and mask data with the new cropped data"
   ]
  },
  {
   "cell_type": "code",
   "execution_count": null,
   "id": "7ac74fc3",
   "metadata": {},
   "outputs": [],
   "source": [
    "local_intensity_peak_cropped = MEDimage.biomarkers.local_intensity.peak_local(\n",
    "                img_obj=vol_obj_init.data,\n",
    "                roi_obj=roi_obj_init.data,\n",
    "                res=[2, 2, 3]\n",
    "            )"
   ]
  },
  {
   "cell_type": "markdown",
   "id": "8f2aea0e",
   "metadata": {},
   "source": [
    "And we should get the same results!"
   ]
  },
  {
   "cell_type": "code",
   "execution_count": null,
   "id": "6751250e",
   "metadata": {},
   "outputs": [],
   "source": [
    "local_intensity_peak, local_intensity_peak_cropped"
   ]
  },
  {
   "cell_type": "markdown",
   "id": "1371ca9b",
   "metadata": {},
   "source": [
    "## Conclusion\n",
    "\n",
    "This final demo shows how flexible the ``MEDimage`` package can be which makes it a useful tool for reproducible image processing and features extraction."
   ]
  }
 ],
 "metadata": {
  "interpreter": {
   "hash": "690809811b19584f778c4442b934fd193633a60aa2ec602bd8e4817043639bc9"
  },
  "kernelspec": {
   "display_name": "testpypi",
   "language": "python",
   "name": "testpypi"
  },
  "language_info": {
   "codemirror_mode": {
    "name": "ipython",
    "version": 3
   },
   "file_extension": ".py",
   "mimetype": "text/x-python",
   "name": "python",
   "nbconvert_exporter": "python",
   "pygments_lexer": "ipython3",
   "version": "3.9.13"
  }
 },
 "nbformat": 4,
 "nbformat_minor": 5
}
