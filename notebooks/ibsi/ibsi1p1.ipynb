{
 "cells": [
  {
   "cell_type": "markdown",
   "id": "41675a28",
   "metadata": {},
   "source": [
    "## IBSI Chapter 1 Phase 1 − Radiomic Computations\n",
    "\n",
    "@Author : [MEDomics consortium](https://github.com/medomics/)\n",
    "\n",
    "@EMAIL : medomics.info@gmail.com\n",
    "\n",
    "@REF : [IBSI 1](https://arxiv.org/pdf/1612.07003.pdf)"
   ]
  },
  {
   "cell_type": "markdown",
   "id": "c9ef6a2c",
   "metadata": {},
   "source": [
    "**STATEMENT**:\n",
    "This file is part of <https://github.com/MEDomics/MEDomicsLab/>,\n",
    "a package providing PYTHON programming tools for radiomics analysis.\n",
    "--> Copyright (C) MEDomicsLab consortium."
   ]
  },
  {
   "cell_type": "markdown",
   "id": "ffac73c3",
   "metadata": {},
   "source": [
    "### Introduction\n",
    "\n",
    "\n",
    "We recommend to take a look at the [MEDscan-tutorial notebook](https://colab.research.google.com/github/MahdiAll99/MEDimage/blob/dev/notebooks/tutorial/MEDimage-Tutorial.ipynb) and the [DataManager-tutorial](https://colab.research.google.com/github/MahdiAll99/MEDimage/blob/dev/notebooks/tutorial/DataManager-Tutorial.ipynb) before running the IBSI tests.\n",
    "\n",
    "In this notebook we treat the first phase of standardization of image processing and feature computation. In the figure below, we focus on the first part referred as phase 1. We only compute radiomics features from a digital phantom without any processing\n",
    "\n",
    "<img src=\"images/Flowchart-of-study-overview.png\" alt=\"range resegmentation example\"/>\n"
   ]
  },
  {
   "cell_type": "markdown",
   "id": "93d06dd8",
   "metadata": {},
   "source": [
    "### Dataset - Digital phantom\n",
    "In this chapter and in this phase, reference values for features were obtained using a digital image phantom, which is described below. The digital phantom can be found here: https://github.com/theibsi/data_sets/tree/master/ibsi_1_digital_phantom"
   ]
  },
  {
   "cell_type": "markdown",
   "id": "16b5081d",
   "metadata": {},
   "source": [
    "- The phantom consists of 5 × 4 × 4 (x, y, z) voxels.\n",
    "- A slice consists of the voxels in (x, y) plane for a particular slice at position z. Slices are therefore stacked in the z direction.\n",
    "- Voxels are 2.0 × 2.0 × 2.0 mm in size.\n",
    "- Not all voxels are included in the region of interest. Several excluded voxels are located on the outside of the ROI, and one internal voxel was excluded as well. Voxels excluded from the ROI are shown in blue in figure below.\n",
    "- Some intensities are not present in the phantom. Notably, grey levels 2 and 5 are absent. 1 is the lowest grey level present in the ROI and 6 the highest."
   ]
  },
  {
   "cell_type": "markdown",
   "id": "3ed0b1bb",
   "metadata": {},
   "source": [
    "<img src=\"images/view-of-the-test-volume.png\" alt=\"IBSI 1 Phase 1 Digital Phantom\" style=\"width:400px;\"/>"
   ]
  },
  {
   "cell_type": "code",
   "execution_count": 1,
   "id": "98c17c3c",
   "metadata": {},
   "outputs": [
    {
     "name": "stdout",
     "output_type": "stream",
     "text": [
      "PyCUDA is not installed. Please install it to use the textural filters.\n"
     ]
    }
   ],
   "source": [
    "import os\n",
    "import sys\n",
    "\n",
    "from copy import deepcopy\n",
    "from pathlib import Path\n",
    "\n",
    "import MEDimage"
   ]
  },
  {
   "cell_type": "markdown",
   "id": "1cf2047b",
   "metadata": {},
   "source": [
    "### Classes initialization\n",
    "In the IBSI scripts we are going to use the *MEDscan* class and other processing classes like *DataManager* to process the imaging data and to extract the radiomics features.\n",
    "- ``MEDscan``: Is a Python class that organizes all scan data and many other useful information that is used by the many processing and computing methods. Learn more in the [MEDscan-tutorial](https://colab.research.google.com/github/MahdiAll99/MEDimage/blob/dev/notebooks/tutorial/MEDscan-Tutorial.ipynb)\n",
    "- ``DataManager``: A Python class that process all the raw data (DICOM and NIfTI) and convert it to *MEDimage* class objects. Learn more in the [DataManager-tutorial](https://colab.research.google.com/github/MahdiAll99/MEDimage/blob/dev/notebooks/tutorial/DataManager-Tutorial.ipynb)\n",
    "\n",
    "So the first step is to initialize the MEDimage class using the *DataManager*. This class will only need path to where the data is located (either DICOM or NIfTI). We will use NIfTI for this tutorial."
   ]
  },
  {
   "cell_type": "markdown",
   "id": "e79831d7",
   "metadata": {},
   "source": [
    "Make sure your folder structure looks like this:\n",
    "\n",
    "<img src=\"images/ibsi1-p1-folder-structure.png\"/>\n",
    "\n",
    "Make sure to also download the [Phantom data](https://github.com/theibsi/data_sets/tree/master/ibsi_1_digital_phantom/dicom) (we recommend you use NIfTI files) and place it in Phantom folder. The settings file can be found in the repository and is automatically place in the settings folder."
   ]
  },
  {
   "cell_type": "markdown",
   "id": "a95e5e20",
   "metadata": {},
   "source": [
    "We now start by initializing our assets (paths, variables...)"
   ]
  },
  {
   "cell_type": "code",
   "execution_count": 2,
   "id": "2afa7d92",
   "metadata": {},
   "outputs": [],
   "source": [
    "path_settings = Path(os.getcwd()) / \"settings\" # Path to the script settings/configuration folder\n",
    "# Load script parameters\n",
    "im_params = MEDimage.utils.json_utils.load_json(path_settings / 'Phase1_settings.json')"
   ]
  },
  {
   "cell_type": "markdown",
   "id": "fb722b3b",
   "metadata": {},
   "source": [
    "Then we'll initialize the ``DataManager`` class and run NIfTIs processing"
   ]
  },
  {
   "cell_type": "code",
   "execution_count": 3,
   "id": "c7ae2418",
   "metadata": {},
   "outputs": [
    {
     "name": "stdout",
     "output_type": "stream",
     "text": [
      "\n",
      "--> Scanning all folders in initial directory\n"
     ]
    },
    {
     "name": "stderr",
     "output_type": "stream",
     "text": [
      "100%|██████████████████████████████████████████████████████████████████████████████████████████████████████| 4/4 [00:00<00:00, 52265.47it/s]\n"
     ]
    },
    {
     "name": "stdout",
     "output_type": "stream",
     "text": [
      "DONE\n",
      "--> Reading all NIfTI objects (imaging volumes & masks) to create MEDscan classes\n"
     ]
    },
    {
     "name": "stderr",
     "output_type": "stream",
     "text": [
      "  0%|                                                                                                                 | 0/2 [00:00<?, ?it/s]WARNING:root:The patient ID of the following file: FIG61__SEG.CTscan.npy does not respect the MEDimage naming convention 'study-institution-id' (Ex: Glioma-TCGA-001)\n",
      "WARNING:root:The patient ID of the following file: FIG61__SEG.CTscan.npy does not respect the MEDimage naming convention 'study-institution-id' (Ex: Glioma-TCGA-001)\n",
      "100%|████████████████████████████████████████████████████████████████████████████████████████████████████████| 2/2 [00:00<00:00, 138.29it/s]"
     ]
    },
    {
     "name": "stdout",
     "output_type": "stream",
     "text": [
      "DONE\n"
     ]
    },
    {
     "name": "stderr",
     "output_type": "stream",
     "text": [
      "\n"
     ]
    }
   ],
   "source": [
    "# Intialize the DataManager class\n",
    "path_to_niftis = Path(os.getcwd()) / \"data\" / \"Phantom\"\n",
    "dm = MEDimage.wrangling.DataManager(path_to_niftis=path_to_niftis)\n",
    "\n",
    "# Process the NIfTI scan\n",
    "MEDinstance = dm.process_all_niftis()[0]  # one-element list/ one scan"
   ]
  },
  {
   "cell_type": "markdown",
   "id": "762888ca",
   "metadata": {},
   "source": [
    "### Image processing\n",
    "\n",
    "In the MEDimage package, the ``processing`` module offers many methods and functionalities for image processing (interpolation, segmentation...) and will be used in this phase, but we only need to to extract the ROI and replace the excluded values (values outside the ROI) in the image volume with a placeholder (NaN). The intensity and morphological mask are identical in this case (no re-segmentation or interpolation is done here)."
   ]
  },
  {
   "cell_type": "code",
   "execution_count": 4,
   "id": "bc0c4790",
   "metadata": {},
   "outputs": [],
   "source": [
    "# Extraction of ROI mask :\n",
    "vol_obj_init, roi_obj_init = MEDimage.processing.get_roi_from_indexes(MEDinstance,\n",
    "                                                           name_roi='{tumor}',\n",
    "                                                           box_string='full')\n",
    "\n",
    "# Init processing & computation parameters\n",
    "MEDinstance.init_params(im_params)\n",
    "\n",
    "# Morphological Mask :\n",
    "vol_obj = deepcopy(vol_obj_init)\n",
    "roi_obj_morph = deepcopy(roi_obj_init)\n",
    "\n",
    "# Intensity mask Creation :\n",
    "roi_obj_int = deepcopy(roi_obj_morph)\n",
    "\n",
    "# Preparation of computation :\n",
    "MEDinstance.init_ntf_calculation(vol_obj)\n",
    "\n",
    "# Image volume ROI Extraction :\n",
    "vol_int_re = MEDimage.processing.roi_extract(\n",
    "    vol=vol_obj.data, \n",
    "    roi=roi_obj_int.data\n",
    ")"
   ]
  },
  {
   "cell_type": "markdown",
   "id": "a39c0f0a",
   "metadata": {},
   "source": [
    "### Non-Texture Features extraction\n",
    "In this section we extract the following families of features using ``biomarkers`` methods : \n",
    "\n",
    "*morphological features, local intensity, statistical, Intensity-based and intensity histogram-based.*\n",
    "\n",
    "No further image processing is required."
   ]
  },
  {
   "cell_type": "markdown",
   "id": "54668295",
   "metadata": {},
   "source": [
    "#### Morphological features\n",
    "\n",
    "Morphological features describe geometric aspects of a region of interest (ROI), such as area and\n",
    "volume. Morphological features are based on ROI voxel representations of the volume."
   ]
  },
  {
   "cell_type": "code",
   "execution_count": 5,
   "id": "cbd48457",
   "metadata": {
    "scrolled": true
   },
   "outputs": [],
   "source": [
    "morph = MEDimage.biomarkers.morph.extract_all(\n",
    "            vol=vol_obj.data, \n",
    "            mask_int=roi_obj_int.data, \n",
    "            mask_morph=roi_obj_morph.data,\n",
    "            res=MEDinstance.params.process.scale_non_text,\n",
    "            intensity_type=\"definite\"\n",
    "        )"
   ]
  },
  {
   "cell_type": "markdown",
   "id": "ee0e80e4",
   "metadata": {},
   "source": [
    "#### Local intensity features\n",
    "\n",
    "Voxel intensities within a defined neighborhood around a center voxel are used to compute local\n",
    "intensity features. By definition, local intensity features are calculated in 3D, and not per slice."
   ]
  },
  {
   "cell_type": "code",
   "execution_count": 6,
   "id": "8de3dfc5",
   "metadata": {},
   "outputs": [],
   "source": [
    "local_intensity = MEDimage.biomarkers.local_intensity.extract_all(\n",
    "            img_obj=vol_obj.data,\n",
    "            roi_obj=roi_obj_int.data,\n",
    "            res=MEDinstance.params.process.scale_non_text,\n",
    "            intensity_type=\"definite\")"
   ]
  },
  {
   "cell_type": "markdown",
   "id": "65290cfd",
   "metadata": {},
   "source": [
    "#### Intensity-based statistical features\n",
    "\n",
    "The intensity-based statistical features describe how intensities within the region of interest (ROI)\n",
    "are distributed. The features in this set do not require discretization, and may be used to describe\n",
    "a continuous intensity distribution."
   ]
  },
  {
   "cell_type": "code",
   "execution_count": 7,
   "id": "f91a2145",
   "metadata": {},
   "outputs": [],
   "source": [
    "stats = MEDimage.biomarkers.stats.extract_all(\n",
    "            vol=vol_int_re,\n",
    "            intensity_type=\"definite\"\n",
    "        )"
   ]
  },
  {
   "cell_type": "code",
   "execution_count": 8,
   "id": "ed068427-0823-4788-ab43-dee44f728fe8",
   "metadata": {},
   "outputs": [
    {
     "data": {
      "text/plain": [
       "{'Fstat_mean': 2.1486487,\n",
       " 'Fstat_var': 3.0454712,\n",
       " 'Fstat_skew': 1.0838206041847196,\n",
       " 'Fstat_kurt': -0.3546205634536057,\n",
       " 'Fstat_median': 1.0,\n",
       " 'Fstat_min': 1.0,\n",
       " 'Fstat_P10': 1.0,\n",
       " 'Fstat_P90': 4.0,\n",
       " 'Fstat_max': 6.0,\n",
       " 'Fstat_iqr': 3.0,\n",
       " 'Fstat_range': 5.0,\n",
       " 'Fstat_mad': 1.5522282,\n",
       " 'Fstat_rmad': 1.1138338,\n",
       " 'Fstat_medad': 1.1486486,\n",
       " 'Fstat_cov': 0.8121978,\n",
       " 'Fstat_qcod': 0.6,\n",
       " 'Fstat_energy': 567.0,\n",
       " 'Fstat_rms': 2.7680612}"
      ]
     },
     "execution_count": 8,
     "metadata": {},
     "output_type": "execute_result"
    }
   ],
   "source": [
    "stats"
   ]
  },
  {
   "cell_type": "markdown",
   "id": "60a1bb76",
   "metadata": {},
   "source": [
    "#### Intensity histogram features\n",
    "\n",
    "An intensity histogram is generated by discretizing the original intensity distribution into\n",
    "intensity bins."
   ]
  },
  {
   "cell_type": "code",
   "execution_count": 9,
   "id": "e9e53184",
   "metadata": {},
   "outputs": [],
   "source": [
    "int_hist = MEDimage.biomarkers.intensity_histogram.extract_all(vol=vol_int_re)"
   ]
  },
  {
   "cell_type": "markdown",
   "id": "ac52e085",
   "metadata": {},
   "source": [
    "#### Intensity-volume histogram features\n",
    "\n",
    "The (cumulative) intensity-volume histogram (IVH) of the set of voxel intensities in the ROI\n",
    "intensity mask describes the relationship between discretized intensity and the fraction of the\n",
    "volume containing at least intensity the same intensity."
   ]
  },
  {
   "cell_type": "code",
   "execution_count": 10,
   "id": "9fc60011",
   "metadata": {},
   "outputs": [],
   "source": [
    "int_vol_hist = MEDimage.biomarkers.int_vol_hist.extract_all(\n",
    "                medscan=MEDinstance,\n",
    "                vol=vol_int_re,\n",
    "                vol_int_re=vol_int_re, \n",
    "                wd=1\n",
    "        )"
   ]
  },
  {
   "cell_type": "markdown",
   "id": "6a3d01ae",
   "metadata": {},
   "source": [
    "### Texture Features extraction\n",
    "In this section, for each text scale<sup>1</sup> we extract the matrix-based features using the same module ``biomarkers``:\n",
    "\n",
    "*Grey level co-occurrence based features (GLCM), grey level run length based features (GLRLM), grey level size zone matrix (GLSZM), grey level distance zone matrix (GLDZM), neighborhood grey tone difference matrix (NGTDM) and neighboring grey level dependence matrix (NGLDM).*\n",
    "\n",
    "After the computation is finished, we update the radiomics structure (update the attributes for results). \n",
    "\n",
    "No further image processing is done in this section as well.\n",
    "\n",
    "<sup>1</sup> For each time we resample the voxel spacing (In this case we resample the voxel spacing one time)."
   ]
  },
  {
   "cell_type": "markdown",
   "id": "400bcd20",
   "metadata": {},
   "source": [
    "**Note**: For our case (IBSI 1, Phase 1) we only re-sample the voxel spacing one time so the texture features will be calculated one time."
   ]
  },
  {
   "cell_type": "code",
   "execution_count": 11,
   "id": "5bc89af2",
   "metadata": {},
   "outputs": [],
   "source": [
    "# Intensity mask creation :\n",
    "roi_obj_int = deepcopy(roi_obj_morph)\n",
    "\n",
    "# Preparation of computation :\n",
    "MEDinstance.init_tf_calculation(algo=0, gl=0, scale=0)\n",
    "\n",
    "# ROI Extraction :\n",
    "vol_quant_re = MEDimage.processing.roi_extract(\n",
    "    vol=vol_obj.data, \n",
    "    roi=roi_obj_int.data)"
   ]
  },
  {
   "cell_type": "markdown",
   "id": "dad64c28",
   "metadata": {},
   "source": [
    "#### Grey level co-occurrence based features\n",
    "\n",
    "The grey level co-occurrence matrix (GLCM) is a matrix that expresses how combinations of\n",
    "discretized intensities (grey levels) of neighboring pixels, or voxels in a 3D volume, are distributed\n",
    "along one of the image directions."
   ]
  },
  {
   "cell_type": "code",
   "execution_count": 12,
   "id": "b1ba460c",
   "metadata": {},
   "outputs": [],
   "source": [
    "glcm = MEDimage.biomarkers.glcm.extract_all(\n",
    "                    vol=vol_quant_re, \n",
    "                    dist_correction=MEDinstance.params.radiomics.glcm.dist_correction)"
   ]
  },
  {
   "cell_type": "markdown",
   "id": "2dc89ef8",
   "metadata": {},
   "source": [
    "#### Grey level run length based features\n",
    "The grey level run length matrix (GLRLM) defines various texture features. Like the grey level co-occurrence matrix, GLRLM also assesses the distribution of\n",
    "discretized grey levels in an image or in a stack of images. However, whereas GLCM assesses\n",
    "co-occurrence of grey levels within neighboring pixels or voxels, GLRLM assesses run lengths. A\n",
    "run length is defined as the length of a consecutive sequence of pixels or voxels with the same grey level along a direction."
   ]
  },
  {
   "cell_type": "code",
   "execution_count": 13,
   "id": "ffc856b0",
   "metadata": {},
   "outputs": [],
   "source": [
    "glrlm = MEDimage.biomarkers.glrlm.extract_all(\n",
    "                    vol=vol_quant_re,\n",
    "                    dist_correction=MEDinstance.params.radiomics.glrlm.dist_correction)"
   ]
  },
  {
   "cell_type": "markdown",
   "id": "fe42c1a3",
   "metadata": {},
   "source": [
    "#### Grey level size zone based features\n",
    "\n",
    "The grey level size zone matrix (GLSZM) counts the number of groups (or zones) of linked voxels.\n",
    "Voxels are linked if the neighboring voxel has an identical neighboring grey level."
   ]
  },
  {
   "cell_type": "code",
   "execution_count": 14,
   "id": "f3ab15dd",
   "metadata": {
    "scrolled": true
   },
   "outputs": [],
   "source": [
    "glszm = MEDimage.biomarkers.glszm.extract_all(vol=vol_quant_re)"
   ]
  },
  {
   "cell_type": "markdown",
   "id": "4281a7f7",
   "metadata": {},
   "source": [
    "#### Grey level distance zone based features\n",
    "\n",
    "The grey level distance zone matrix (GLDZM) counts the number of groups (or zones) of linked\n",
    "voxels which share a specific neighboring grey level value and possess the same distance to ROI\n",
    "edge. The GLDZM thus captures the relation between location and grey level."
   ]
  },
  {
   "cell_type": "code",
   "execution_count": 15,
   "id": "96a026c2",
   "metadata": {},
   "outputs": [],
   "source": [
    "gldzm = MEDimage.biomarkers.gldzm.extract_all(\n",
    "                    vol_int=vol_quant_re, \n",
    "                    mask_morph=roi_obj_morph.data)"
   ]
  },
  {
   "cell_type": "markdown",
   "id": "fceb6731",
   "metadata": {},
   "source": [
    "####  Neighbourhood grey tone difference based features\n",
    "\n",
    "The neighborhood grey tone difference matrix (NGTDM) contains the sum of grey level differences\n",
    "of pixels/voxels with a discretized grey level and the average discretized grey level of neighboring pixels/voxels within a Chebyshev distance. "
   ]
  },
  {
   "cell_type": "code",
   "execution_count": 16,
   "id": "18ea2f75",
   "metadata": {},
   "outputs": [],
   "source": [
    "ngtdm = MEDimage.biomarkers.ngtdm.extract_all(\n",
    "                    vol=vol_quant_re, \n",
    "                    dist_correction=MEDinstance.params.radiomics.ngtdm.dist_correction)"
   ]
  },
  {
   "cell_type": "markdown",
   "id": "2c226236",
   "metadata": {},
   "source": [
    "####  Neighbouring grey level dependence based features:\n",
    "\n",
    "The neighbouring grey level dependence matrix (NGLDM) aims to capture the coarseness of the overall\n",
    "texture and is rotationally invariant."
   ]
  },
  {
   "cell_type": "code",
   "execution_count": 17,
   "id": "c7b48e08",
   "metadata": {},
   "outputs": [],
   "source": [
    "ngldm = MEDimage.biomarkers.ngldm.extract_all(vol=vol_quant_re)"
   ]
  },
  {
   "cell_type": "markdown",
   "id": "cc012a7c",
   "metadata": {},
   "source": [
    "#### Update the radiomics structure\n",
    "\n",
    "This can be done by calling the *MEDimage* class method ``update_radiomics``"
   ]
  },
  {
   "cell_type": "code",
   "execution_count": 18,
   "id": "0169e310",
   "metadata": {},
   "outputs": [],
   "source": [
    "MEDinstance.update_radiomics(\n",
    "            int_vol_hist_features=int_vol_hist, \n",
    "            morph_features=morph,\n",
    "            loc_int_features=local_intensity, \n",
    "            stats_features=stats, \n",
    "            int_hist_features=int_hist,\n",
    "            glcm_features=glcm, \n",
    "            glrlm_features=glrlm, \n",
    "            glszm_features=glszm, \n",
    "            gldzm_features=gldzm, \n",
    "            ngtdm_features=ngtdm, \n",
    "            ngldm_features=ngldm\n",
    "        )"
   ]
  },
  {
   "cell_type": "markdown",
   "id": "de7d666f",
   "metadata": {},
   "source": [
    "Finally we print the results"
   ]
  },
  {
   "cell_type": "code",
   "execution_count": 19,
   "id": "b50a025e",
   "metadata": {},
   "outputs": [
    {
     "name": "stdout",
     "output_type": "stream",
     "text": [
      "{\n",
      "    \"morph_3D\": {\n",
      "        \"scale2\": {\n",
      "            \"Fmorph_vol\": 556.3333333333334,\n",
      "            \"Fmorph_approx_vol\": 592.0,\n",
      "            \"Fmorph_area\": 388.0706298811092,\n",
      "            \"Fmorph_av\": 0.6975505629977996,\n",
      "            \"Fmorph_comp_1\": 0.04105763998875515,\n",
      "            \"Fmorph_comp_2\": 0.5989495056264417,\n",
      "            \"Fmorph_sph_dispr\": 1.1863238540244057,\n",
      "            \"Fmorph_sphericity\": 0.8429401437117419,\n",
      "            \"Fmorph_asphericity\": 0.1863238540244052,\n",
      "            \"Fmorph_com\": 0.6715449258791162,\n",
      "            \"Fmorph_diam\": 13.114877048604,\n",
      "            \"Fmorph_pca_major\": 11.402387266727741,\n",
      "            \"Fmorph_pca_minor\": 9.308010776621932,\n",
      "            \"Fmorph_pca_least\": 8.535981219598838,\n",
      "            \"Fmorph_pca_elongation\": 0.816321228080262,\n",
      "            \"Fmorph_pca_flatness\": 0.7486135157421726,\n",
      "            \"Fmorph_v_dens_aabb\": 0.8692708333333334,\n",
      "            \"Fmorph_a_dens_aabb\": 0.8662290845560473,\n",
      "            \"Fmorph_v_dens_ombb\": 0.8692708333333334,\n",
      "            \"Fmorph_a_dens_ombb\": 0.8662290845560473,\n",
      "            \"Fmorph_v_dens_aee\": 1.172817247682943,\n",
      "            \"Fmorph_a_dens_aee\": 1.3551287345086926,\n",
      "            \"Fmorph_v_dens_mvee\": 0.4487938537177223,\n",
      "            \"Fmorph_a_dens_mvee\": 0.6963256023315707,\n",
      "            \"Fmorph_v_dens_conv_hull\": 0.9608520437535985,\n",
      "            \"Fmorph_a_dens_conv_hull\": 1.032868843228057,\n",
      "            \"Fmorph_integ_int\": 1195.3649150530498,\n",
      "            \"Fmorph_moran_i\": [],\n",
      "            \"Fmorph_geary_c\": []\n",
      "        }\n",
      "    },\n",
      "    \"locInt_3D\": {\n",
      "        \"scale2\": {\n",
      "            \"Floc_peak_local\": 2.5999999046325684,\n",
      "            \"Floc_peak_global\": []\n",
      "        }\n",
      "    },\n",
      "    \"stats_3D\": {\n",
      "        \"scale2\": {\n",
      "            \"Fstat_mean\": 2.148648738861084,\n",
      "            \"Fstat_var\": 3.04547119140625,\n",
      "            \"Fstat_skew\": 1.0838206041847196,\n",
      "            \"Fstat_kurt\": -0.3546205634536057,\n",
      "            \"Fstat_median\": 1.0,\n",
      "            \"Fstat_min\": 1.0,\n",
      "            \"Fstat_P10\": 1.0,\n",
      "            \"Fstat_P90\": 4.0,\n",
      "            \"Fstat_max\": 6.0,\n",
      "            \"Fstat_iqr\": 3.0,\n",
      "            \"Fstat_range\": 5.0,\n",
      "            \"Fstat_mad\": 1.5522282123565674,\n",
      "            \"Fstat_rmad\": 1.1138337850570679,\n",
      "            \"Fstat_medad\": 1.1486486196517944,\n",
      "            \"Fstat_cov\": 0.8121978044509888,\n",
      "            \"Fstat_qcod\": 0.6,\n",
      "            \"Fstat_energy\": 567.0,\n",
      "            \"Fstat_rms\": 2.7680611610412598\n",
      "        }\n",
      "    },\n",
      "    \"intHist_3D\": {\n",
      "        \"scale2_algo_bin\": {\n",
      "            \"Fih_mean\": 2.1486486486486487,\n",
      "            \"Fih_var\": 3.045471146822498,\n",
      "            \"Fih_skew\": 1.083820722557456,\n",
      "            \"Fih_kurt\": -0.35462048068783414,\n",
      "            \"Fih_median\": 1.0,\n",
      "            \"Fih_min\": 1.0,\n",
      "            \"Fih_P10\": 1.0,\n",
      "            \"Fih_P90\": 4.0,\n",
      "            \"Fih_max\": 6.0,\n",
      "            \"Fih_mode\": 1,\n",
      "            \"Fih_iqr\": 3.0,\n",
      "            \"Fih_range\": 5.0,\n",
      "            \"Fih_mad\": 1.5522282123565674,\n",
      "            \"Fih_rmad\": 1.1138337850570679,\n",
      "            \"Fih_medad\": 1.1486486196517944,\n",
      "            \"Fih_cov\": 0.8121978044509888,\n",
      "            \"Fih_qcod\": 0.6,\n",
      "            \"Fih_entropy\": 1.2656115555865246,\n",
      "            \"Fih_uniformity\": 0.5124178232286339,\n",
      "            \"Fih_max_grad\": 8.0,\n",
      "            \"Fih_max_grad_gl\": 3.0,\n",
      "            \"Fih_min_grad\": -50.0,\n",
      "            \"Fih_min_grad_gl\": 1.0\n",
      "        }\n",
      "    },\n",
      "    \"intVolHist_3D\": {\n",
      "        \"scale2_algoNone_bin1\": {\n",
      "            \"Fivh_V10\": 0.32432432432432434,\n",
      "            \"Fivh_V90\": 0.09459459459459463,\n",
      "            \"Fivh_I10\": 5.0,\n",
      "            \"Fivh_I90\": 2.0,\n",
      "            \"Fivh_V10minusV90\": 0.22972972972972971,\n",
      "            \"Fivh_I10minusI90\": 3.0,\n",
      "            \"Fivh_auc\": 0.32027027027027033\n",
      "        }\n",
      "    },\n",
      "    \"texture\": {\n",
      "        \"glcm_3D_comb\": {\n",
      "            \"scale2_algoFBN_bin32\": {\n",
      "                \"Fcm_joint_max\": 0.50853889943074,\n",
      "                \"Fcm_joint_avg\": 2.1489563567362433,\n",
      "                \"Fcm_joint_var\": 3.132460960144601,\n",
      "                \"Fcm_joint_entr\": 2.5738963770752696,\n",
      "                \"Fcm_diff_avg\": 1.3795066413662238,\n",
      "                \"Fcm_diff_var\": 3.21460848525001,\n",
      "                \"Fcm_diff_entr\": 1.6408766743670586,\n",
      "                \"Fcm_sum_avg\": 4.297912713472486,\n",
      "                \"Fcm_sum_var\": 7.412196781754876,\n",
      "                \"Fcm_sum_entr\": 2.1098633717396242,\n",
      "                \"Fcm_energy\": 0.2909508909764555,\n",
      "                \"Fcm_contrast\": 5.11764705882353,\n",
      "                \"Fcm_dissimilarity\": 1.379506641366224,\n",
      "                \"Fcm_inv_diff\": 0.6876976597090448,\n",
      "                \"Fcm_inv_diff_norm\": 0.8558983710786366,\n",
      "                \"Fcm_inv_diff_mom\": 0.6306378630856809,\n",
      "                \"Fcm_inv_diff_mom_norm\": 0.902210369762552,\n",
      "                \"Fcm_inv_var\": 0.057444655281467416,\n",
      "                \"Fcm_corr\": 0.18312676136476327,\n",
      "                \"Fcm_auto_corr\": 5.191650853889944,\n",
      "                \"Fcm_clust_tend\": 7.4121967817548775,\n",
      "                \"Fcm_clust_shade\": 17.41920541588659,\n",
      "                \"Fcm_clust_prom\": 147.46389960668296,\n",
      "                \"Fcm_info_corr1\": -0.028799723193268463,\n",
      "                \"Fcm_info_corr2\": 0.2691687308895439\n",
      "            }\n",
      "        },\n",
      "        \"glrlm_3D_comb\": {\n",
      "            \"scale2_algoFBN_bin32\": {\n",
      "                \"Frlm_sre\": 0.7291271661569827,\n",
      "                \"Frlm_lre\": 2.761467889908257,\n",
      "                \"Frlm_lgre\": 0.606651376146789,\n",
      "                \"Frlm_hgre\": 9.637614678899082,\n",
      "                \"Frlm_srlge\": 0.3716031626363877,\n",
      "                \"Frlm_srhge\": 8.672350492694529,\n",
      "                \"Frlm_lrlge\": 2.162865273530411,\n",
      "                \"Frlm_lrhge\": 15.634556574923547,\n",
      "                \"Frlm_glnu\": 281.28134556574923,\n",
      "                \"Frlm_glnu_norm\": 0.4300938005592496,\n",
      "                \"Frlm_rlnu\": 327.71865443425077,\n",
      "                \"Frlm_rlnu_norm\": 0.5010988599912091,\n",
      "                \"Frlm_r_perc\": 0.6798336798336798,\n",
      "                \"Frlm_gl_var\": 3.4790211261678317,\n",
      "                \"Frlm_rl_var\": 0.5977798352177611,\n",
      "                \"Frlm_rl_entr\": 2.624426645711054\n",
      "            }\n",
      "        },\n",
      "        \"glszm_3D\": {\n",
      "            \"scale2_algoFBN_bin32\": {\n",
      "                \"Fszm_sze\": 0.25518204081632656,\n",
      "                \"Fszm_lze\": 550.0,\n",
      "                \"Fszm_lgze\": 0.25277777777777777,\n",
      "                \"Fszm_hgze\": 15.600000000000001,\n",
      "                \"Fszm_szlge\": 0.025604376417233562,\n",
      "                \"Fszm_szhge\": 2.7633453061224493,\n",
      "                \"Fszm_lzlge\": 502.7944444444445,\n",
      "                \"Fszm_lzhge\": 1494.6,\n",
      "                \"Fszm_glnu\": 1.4000000000000001,\n",
      "                \"Fszm_glnu_norm\": 0.28,\n",
      "                \"Fszm_zsnu\": 1.0000000000000002,\n",
      "                \"Fszm_zsnu_norm\": 0.20000000000000004,\n",
      "                \"Fszm_z_perc\": 0.06756756756756756,\n",
      "                \"Fszm_gl_var\": 2.6399999999999997,\n",
      "                \"Fszm_zs_var\": 330.9600000000001,\n",
      "                \"Fszm_zs_entr\": 2.321928094887362\n",
      "            }\n",
      "        },\n",
      "        \"gldzm_3D\": {\n",
      "            \"scale2_algoFBN_bin32\": {\n",
      "                \"Fdzm_sde\": 1.0,\n",
      "                \"Fdzm_lde\": 1.0,\n",
      "                \"Fdzm_lgze\": 0.25277777777777777,\n",
      "                \"Fdzm_hgze\": 15.600000000000001,\n",
      "                \"Fdzm_sdlge\": 0.25277777777777777,\n",
      "                \"Fdzm_sdhge\": 15.600000000000001,\n",
      "                \"Fdzm_ldlge\": 0.25277777777777777,\n",
      "                \"Fdzm_ldhge\": 15.600000000000001,\n",
      "                \"Fdzm_glnu\": 1.4000000000000001,\n",
      "                \"Fdzm_glnu_norm\": 0.28,\n",
      "                \"Fdzm_zdnu\": 5.0,\n",
      "                \"Fdzm_zdnu_norm\": 1.0,\n",
      "                \"Fdzm_z_perc\": 0.06756756756756757,\n",
      "                \"Fdzm_gl_var\": 2.6399999999999997,\n",
      "                \"Fdzm_zd_var\": 0.0,\n",
      "                \"Fdzm_zd_entr\": 1.9219280948873623\n",
      "            }\n",
      "        },\n",
      "        \"ngtdm_3D\": {\n",
      "            \"scale2_algoFBN_bin32\": {\n",
      "                \"Fngt_coarseness\": 0.029604225700771966,\n",
      "                \"Fngt_contrast\": 0.5837109155843376,\n",
      "                \"Fngt_busyness\": 6.543568456913214,\n",
      "                \"Fngt_complexity\": 13.539763601407845,\n",
      "                \"Fngt_strength\": 0.7634954330521357\n",
      "            }\n",
      "        },\n",
      "        \"ngldm_3D\": {\n",
      "            \"scale2_algoFBN_bin32\": {\n",
      "                \"Fngl_lde\": 0.044996357059631426,\n",
      "                \"Fngl_hde\": 109.0,\n",
      "                \"Fngl_lgce\": 0.6933183183183184,\n",
      "                \"Fngl_hgce\": 7.662162162162162,\n",
      "                \"Fngl_ldlge\": 0.00963060759417958,\n",
      "                \"Fngl_ldhge\": 0.7361715884134342,\n",
      "                \"Fngl_hdlge\": 102.45082582582583,\n",
      "                \"Fngl_hdhge\": 234.98648648648648,\n",
      "                \"Fngl_glnu\": 37.91891891891892,\n",
      "                \"Fngl_glnu_norm\": 0.512417823228634,\n",
      "                \"Fngl_dcnu\": 4.864864864864865,\n",
      "                \"Fngl_dcnu_norm\": 0.06574141709276844,\n",
      "                \"Fngl_gl_var\": 3.045471146822498,\n",
      "                \"Fngl_dc_var\": 22.056975894813732,\n",
      "                \"Fngl_dc_entr\": 4.403738379915684,\n",
      "                \"Fngl_dc_energy\": 0.053323593864134405\n",
      "            }\n",
      "        }\n",
      "    }\n",
      "}\n"
     ]
    }
   ],
   "source": [
    "from numpyencoder import NumpyEncoder\n",
    "from json import dumps\n",
    "\n",
    "print(dumps(MEDinstance.radiomics.image, indent=4, cls=NumpyEncoder))"
   ]
  },
  {
   "cell_type": "markdown",
   "id": "857d1fff",
   "metadata": {},
   "source": [
    "You can compare your results with other teams and check your level of consensus using the CSV provided [here](https://ibsi.radiomics.hevs.ch/assets/IBSI-1-submission-table.xlsx)"
   ]
  }
 ],
 "metadata": {
  "kernelspec": {
   "display_name": "medimage",
   "language": "python",
   "name": "medimage"
  },
  "language_info": {
   "codemirror_mode": {
    "name": "ipython",
    "version": 3
   },
   "file_extension": ".py",
   "mimetype": "text/x-python",
   "name": "python",
   "nbconvert_exporter": "python",
   "pygments_lexer": "ipython3",
   "version": "3.9.13"
  }
 },
 "nbformat": 4,
 "nbformat_minor": 5
}
