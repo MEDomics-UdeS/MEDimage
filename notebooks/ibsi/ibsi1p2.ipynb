{
 "cells": [
  {
   "cell_type": "markdown",
   "id": "ecdbaa79",
   "metadata": {},
   "source": [
    "## IBSI Chapter 1 Phase 2 − Radiomic Computations\n",
    "\n",
    "@Author : [MEDomics consortium](https://github.com/medomics/)\n",
    "\n",
    "@EMAIL : medomics.info@gmail.com\n",
    "\n",
    "@REF : [IBSI 1](https://arxiv.org/pdf/1612.07003.pdf)"
   ]
  },
  {
   "cell_type": "markdown",
   "id": "05880d2d",
   "metadata": {},
   "source": [
    "**STATEMENT**:\n",
    "This file is part of <https://github.com/MEDomics/MEDomicsLab/>,\n",
    "a package providing PYTHON programming tools for radiomics analysis.\n",
    "--> Copyright (C) MEDomicsLab consortium."
   ]
  },
  {
   "cell_type": "markdown",
   "id": "e1df9d32",
   "metadata": {},
   "source": [
    "### Introduction\n",
    "\n",
    "We recommend to take a look at the [MEDscan-tutorial notebook](https://colab.research.google.com/github/MahdiAll99/MEDimage/blob/dev/notebooks/tutorial/MEDscan-Tutorial.ipynb) and the [DataManager-tutorial](https://colab.research.google.com/github/MahdiAll99/MEDimage/blob/dev/notebooks/tutorial/DataManager-Tutorial.ipynb) before running the IBSI tests.\n",
    "\n",
    "In this notebook we treat the second phase where we focus on the standardization of image processing and feature computation. In the figure below, we focus on the second part, phase 2 where we compute radiomics features from a CT image after certain processing.\n",
    "\n",
    "<img src=\"images/Flowchart-of-study-overview.png\" alt=\"range resegmentation example\"/>\n"
   ]
  },
  {
   "cell_type": "markdown",
   "id": "f7e50565",
   "metadata": {},
   "source": [
    "### Dataset - CT image\n",
    "In this chapter and in this phase, reference values for features were obtained using a CT image, which is described below. The CT image can be found here: [IBSI 1 CT Phantom](https://github.com/theibsi/data_sets/tree/master/ibsi_1_ct_radiomics_phantom/dicom)"
   ]
  },
  {
   "cell_type": "markdown",
   "id": "83e3ec43",
   "metadata": {},
   "source": [
    "The CT image set is stored as a stack of slices in DICOM format. The gross tumour volume (GTV) was delineated and is used as the region of interest (ROI). Contour information is stored as an RT structure set in the DICOM\n",
    "file starting with DCM RS. For broader use, both the DICOM set and segmentation mask have been\n",
    "converted to the NIfTI format. When using the data in NIfTI format, both image stacks should\n",
    "be converted to (at least) 32-bit floating point and rounded to the nearest integer before further\n",
    "processing."
   ]
  },
  {
   "cell_type": "code",
   "execution_count": 1,
   "id": "27c54241",
   "metadata": {},
   "outputs": [
    {
     "name": "stdout",
     "output_type": "stream",
     "text": [
      "PyCUDA is not installed. Please install it to use the textural filters.\n"
     ]
    }
   ],
   "source": [
    "import os\n",
    "import sys\n",
    "\n",
    "from copy import deepcopy\n",
    "from pathlib import Path\n",
    "\n",
    "import MEDimage"
   ]
  },
  {
   "cell_type": "markdown",
   "id": "cb11c5ea",
   "metadata": {},
   "source": [
    "### Configuration\n",
    "\n",
    "In this phase, we test many configurations, each configuration has different parameters, algorithms etc. Choosing what configuration is used for image processing is very important. The figure below shows the different configurations possible: \n",
    "\n",
    "*A, B, C ,D and E*."
   ]
  },
  {
   "cell_type": "code",
   "execution_count": 2,
   "id": "2f7b501b",
   "metadata": {},
   "outputs": [],
   "source": [
    "CONFIG = 'E' # script configuration. Possible values : 'A', 'B', 'C', 'D', 'E'"
   ]
  },
  {
   "cell_type": "markdown",
   "id": "b77612c7",
   "metadata": {},
   "source": [
    "<img src=\"images/ibsi1-p1-configs.png\" alt=\"Flowchart of radiomics study\"/>\n",
    "\n",
    "Refer to the [IBSI 1 Reference chapter 5](https://arxiv.org/pdf/1612.07003.pdf#chapter.5) for more details."
   ]
  },
  {
   "cell_type": "markdown",
   "id": "178bd04e",
   "metadata": {},
   "source": [
    "### Classes initialization\n",
    "\n",
    "In the IBSI scripts we are going to use the *MEDscan* class and other processing classes like ``DataManager`` to process the imaging data and to extract the radiomics features.\n",
    "- ``MEDscan``: Is a Python class that organizes all scan data and many other useful information that is used by the many processing and computing methods.\n",
    "- ``DataManager``: A Python class that process all the raw data (DICOM and NIfTI) and convert it to ``MEDscan`` class objects.\n",
    "\n",
    "So the first step is to initialize the ``MEDscan`` class using the ``DataManager``. This class will only need path to where the data is located (either DICOM or NIfTI). We will use DICOM for now."
   ]
  },
  {
   "cell_type": "markdown",
   "id": "033e323c",
   "metadata": {},
   "source": [
    "Make sure your folder structure looks like this:\n",
    "\n",
    "<img src=\"images/ibsi1-p2-folder-structure.png\"/>\n",
    "\n",
    "Make sure to also download the [CT-Image data](https://github.com/theibsi/data_sets/tree/master/ibsi_1_ct_radiomics_phantom/dicom) (DICOM files) and place it in CTimage folder. The settings file can be found in the repository and is automatically place in the settings folder."
   ]
  },
  {
   "cell_type": "markdown",
   "id": "63ee7477",
   "metadata": {},
   "source": [
    "We start by initializing the important paths to settings folder, dataset folder..."
   ]
  },
  {
   "cell_type": "code",
   "execution_count": 3,
   "id": "df4c0ea7",
   "metadata": {
    "scrolled": true
   },
   "outputs": [],
   "source": [
    "path_settings = Path(os.getcwd()) / \"settings\" # Path to the script settings/configuration folder\n",
    "\n",
    "# Load script parameters\n",
    "im_params = MEDimage.utils.json_utils.load_json(path_settings / f'Phase2{CONFIG}_settings.json')"
   ]
  },
  {
   "cell_type": "markdown",
   "id": "18820534",
   "metadata": {},
   "source": [
    "Then we'll initialization the ``DataManager`` class and run DICOMs processing"
   ]
  },
  {
   "cell_type": "code",
   "execution_count": 4,
   "id": "1dbb7ba8",
   "metadata": {},
   "outputs": [],
   "source": [
    "# Intialize the DataManager class\n",
    "path_to_dicoms = Path(os.getcwd()) / \"data\" / \"CTimage\"\n",
    "dm = MEDimage.wrangling.DataManager(path_to_dicoms=path_to_dicoms, path_save=path_to_dicoms, save=True)\n",
    "\n",
    "# Process the DICOM scan\n",
    "#dm.process_all_dicoms()\n",
    "\n",
    "# Load the scan\n",
    "import pickle\n",
    "with open(path_to_dicoms / '1__CT.CTscan.npy', 'rb') as f: MEDinstance = pickle.load(f)"
   ]
  },
  {
   "cell_type": "markdown",
   "id": "762888ca",
   "metadata": {},
   "source": [
    "### Image processing\n",
    "Unlike phase 1, processing is required here and different configurations can be tested as mentionned in the IBSI chapter 1. The processing steps are:\n",
    "- **Segmentation (Creation of ROI mask)**\n",
    "- **Interpolation**\n",
    "- **Re-segmentation**\n",
    "- **ROI extraction**\n",
    "- **Intensity discretization**\n"
   ]
  },
  {
   "cell_type": "markdown",
   "id": "0d1792ee",
   "metadata": {},
   "source": [
    "#### Segmentation\n",
    "\n",
    "ROIs are used to define the region in which features are calculated. What constitutes an ROI depends on the imaging and the study objective. In medical imaging of cancer patients, the tumour volume is a common ROI. ROIs can be defined manually by experts or (semi-)automatically using algorithms. ROIs are typically stored with the accompanying image (which is the case here)."
   ]
  },
  {
   "cell_type": "markdown",
   "id": "025ea090",
   "metadata": {},
   "source": [
    "First, we extract the ROI mask"
   ]
  },
  {
   "cell_type": "code",
   "execution_count": 5,
   "id": "6d377df5",
   "metadata": {},
   "outputs": [],
   "source": [
    "vol_obj_init, roi_obj_init = MEDimage.processing.get_roi_from_indexes(MEDinstance,\n",
    "                                                           name_roi='{GTV-1}',\n",
    "                                                           box_string='full')"
   ]
  },
  {
   "cell_type": "markdown",
   "id": "81a0f023",
   "metadata": {},
   "source": [
    "Initialize processing & computation parameters"
   ]
  },
  {
   "cell_type": "code",
   "execution_count": 6,
   "id": "2c108311",
   "metadata": {},
   "outputs": [],
   "source": [
    "MEDinstance.init_params(im_params)"
   ]
  },
  {
   "cell_type": "markdown",
   "id": "d9bf04a2",
   "metadata": {},
   "source": [
    "We extract the initial diagnostic features, so we can identify if there is any issues with the implementation before image processing."
   ]
  },
  {
   "cell_type": "code",
   "execution_count": 7,
   "id": "cba81910",
   "metadata": {},
   "outputs": [],
   "source": [
    "# intial diagnostic features extraction:\n",
    "diag_initial = MEDimage.biomarkers.diagnostics.extract_all(\n",
    "                                vol_obj_init, \n",
    "                                roi_obj_init, \n",
    "                                roi_obj_init, \n",
    "                                'initial')\n",
    "\n",
    "# Update diagnostic Dict:\n",
    "MEDinstance.radiomics.image.update(\n",
    "    {'Diagnostics-initial': \n",
    "        {'scale' + str(MEDinstance.params.process.scale_non_text[0]): diag_initial}\n",
    "    })"
   ]
  },
  {
   "cell_type": "markdown",
   "id": "ef53024d",
   "metadata": {},
   "source": [
    "#### Interpolation\n",
    "\n",
    "Texture feature sets require interpolation to isotropic voxel spacing to be rotationally invariant, and to allow comparison between image data from different samples, cohorts or batches. Interpolation algorithms translate image intensities from the original image grid to an interpolation grid. \n",
    "\n",
    "The figure below shows different interpolation mesh grids based on an original 4 × 4 grid with (3.00, 3.00) mm spacing. The desired interpolation spacing is (2.00, 2.00) mm. *Fit to original grid* creates an interpolation mesh grid that overlaps with the corners of the original grid. *Align grid* origins creates an interpolation mesh grid that is positioned at the origin of the original grid. *Align grid centers* creates an interpolation grid that is centered on the center of original and interpolation grids"
   ]
  },
  {
   "cell_type": "markdown",
   "id": "7c9a92d8",
   "metadata": {},
   "source": [
    "<img src=\"images/interpolation-ex.png\" alt=\"Flowchart of radiomics study\"/>"
   ]
  },
  {
   "cell_type": "markdown",
   "id": "c4d88636",
   "metadata": {},
   "source": [
    "We interpolate both volume data and ROI data in order to create the morphological and the intensity masks:\n",
    "\n",
    "   - **The morphological mask**: is not re-segmented and maintains the original morphology as defined by an expert and/or (semi-)automatic segmentation algorithms.\n",
    "   - **The intensity mask**: can be re-segmented and will only contain the selected voxels. It is important for many feature families. "
   ]
  },
  {
   "cell_type": "markdown",
   "id": "cc227197",
   "metadata": {},
   "source": [
    "**PS** : Interpolation is not required for the configuration A."
   ]
  },
  {
   "cell_type": "code",
   "execution_count": 8,
   "id": "06cec3bc",
   "metadata": {},
   "outputs": [],
   "source": [
    "vol_obj = deepcopy(vol_obj_init)\n",
    "roi_obj_morph = deepcopy(roi_obj_init)\n",
    "\n",
    "if CONFIG != 'A':\n",
    "    # Intensity Mask\n",
    "    vol_obj = MEDimage.processing.interp_volume(\n",
    "        medscan=MEDinstance,\n",
    "        vol_obj_s=vol_obj_init,\n",
    "        roi_obj_s=roi_obj_init,\n",
    "        image_type='image',\n",
    "        box_string='full'\n",
    "    )\n",
    "    # Morphological Mask\n",
    "    roi_obj_morph = MEDimage.processing.interp_volume(\n",
    "        medscan=MEDinstance,\n",
    "        vol_obj_s=roi_obj_init,\n",
    "        roi_obj_s=roi_obj_init,\n",
    "        image_type='roi',\n",
    "        box_string='full'\n",
    "    )"
   ]
  },
  {
   "cell_type": "markdown",
   "id": "394c56d4",
   "metadata": {},
   "source": [
    "We can see how the voxel spacing can change before interpolation and after interpolation (If config is different than A)"
   ]
  },
  {
   "cell_type": "code",
   "execution_count": 9,
   "id": "48fbf8d4",
   "metadata": {},
   "outputs": [
    {
     "name": "stdout",
     "output_type": "stream",
     "text": [
      "Desired spacing (Config E): [2, 2, 2]\n",
      "Before interp: [0.977, 0.977, 3.0]\n",
      "After interp: [2, 2, 2]\n"
     ]
    }
   ],
   "source": [
    "# Desired voxel spacing\n",
    "print(f'Desired spacing (Config {CONFIG}):', \n",
    "      MEDinstance.params.process.scale_non_text)\n",
    "\n",
    "# voxel spacing before interpolation\n",
    "print('Before interp:', [vol_obj_init.spatialRef.PixelExtentInWorldX, \n",
    "      vol_obj_init.spatialRef.PixelExtentInWorldY,\n",
    "      vol_obj_init.spatialRef.PixelExtentInWorldZ])\n",
    "\n",
    "# voxel spacing after interpolation\n",
    "print('After interp:',[vol_obj.spatialRef.PixelExtentInWorldX, \n",
    "      vol_obj.spatialRef.PixelExtentInWorldY,\n",
    "      vol_obj.spatialRef.PixelExtentInWorldZ])"
   ]
  },
  {
   "cell_type": "markdown",
   "id": "24b09e6f",
   "metadata": {},
   "source": [
    "Post-interpolation diagnostic features computation"
   ]
  },
  {
   "cell_type": "code",
   "execution_count": 10,
   "id": "216ce3ff",
   "metadata": {},
   "outputs": [],
   "source": [
    "# Post-interpolation diagnostic features extraction:\n",
    "diag_interp = MEDimage.biomarkers.diagnostics.extract_all(vol_obj, roi_obj_morph, roi_obj_morph, 'interp')\n",
    "\n",
    "# Update diagnostic Dict:\n",
    "MEDinstance.radiomics.image.update(\n",
    "    {'Diagnostics-interpolated': \n",
    "        {'scale' + str(MEDinstance.params.process.scale_non_text[0]): diag_interp}\n",
    "    })"
   ]
  },
  {
   "cell_type": "markdown",
   "id": "72643373",
   "metadata": {},
   "source": [
    "#### Re-segmentation\n",
    "\n",
    "Next processing step is re-segmentation, we update the ROI mask based on corresponding configuration given voxel intensities (For example exclusion of air or bone voxels from a defined ROI on CT image). "
   ]
  },
  {
   "cell_type": "markdown",
   "id": "097e9fd6",
   "metadata": {},
   "source": [
    "- **range re-segmentation**\n",
    "\n",
    "Range re-segmentation will remove voxels from the intensity mask that fall outside of a specified range. \n",
    "\n",
    "The figure below shows how intensity and morphological masks change with re-segmentation. (1) The original region of interest (ROI) is shown with pixel intensities. (2) Subsequently, the ROI is re-segmented to only contain values in the range [1, 6]. Pixels outside this range\n",
    "are marked for removal from the intensity mask. (3a) Resulting morphological mask, which is identical\n",
    "to the original ROI. (3b) Re-segmented intensity mask.\n",
    "\n",
    "<img src=\"images/Example-resegmentation.png\" alt=\"range resegmentation example\" style=\"width:500px;\"/>"
   ]
  },
  {
   "cell_type": "code",
   "execution_count": 11,
   "id": "d018debc",
   "metadata": {},
   "outputs": [],
   "source": [
    "# Intensity mask re-segmentation\n",
    "roi_obj_int = deepcopy(roi_obj_morph)\n",
    "\n",
    "roi_obj_int.data = MEDimage.processing.range_re_seg(\n",
    "            vol=vol_obj.data, \n",
    "            roi=roi_obj_int.data,\n",
    "            im_range=MEDinstance.params.process.im_range\n",
    "        )"
   ]
  },
  {
   "cell_type": "markdown",
   "id": "5f7166bb",
   "metadata": {},
   "source": [
    "- **outlier re-segmentation**\n",
    "\n",
    "ROI voxels with outlier intensities are removed from the intensity mask.\n",
    "\n",
    "The figure below shows a re-segmentation example based on a CT-image. The masked region (blue) is re-\n",
    "segmented to create an intensity mask (orange). Examples using three different re-segmentation parameter sets are shown. The bottom right combines the range and outlier re-segmentation, and the\n",
    "resulting mask is the intersection of the masks in the other two examples\n",
    "\n",
    "<img src=\"https://ibsi.readthedocs.io/en/latest/_images/resegmentation.png\" alt=\" outlier resegmentation example\" style=\"width:500px;\"/>"
   ]
  },
  {
   "cell_type": "code",
   "execution_count": 12,
   "id": "ed01b95d",
   "metadata": {},
   "outputs": [],
   "source": [
    "import numpy as np\n",
    "\n",
    "\n",
    "# re-compute the range (externally) for comparison\n",
    "u = np.mean(vol_obj.data[roi_obj_int.data == 1])\n",
    "sigma = np.std(vol_obj.data[roi_obj_int.data == 1])\n",
    "\n",
    "outlier_range = [u + 3*sigma, u - 3*sigma]\n",
    "\n",
    "# Intensity mask outlier re-segmentation\n",
    "roi_obj_int.data = np.logical_and(MEDimage.processing.outlier_re_seg(\n",
    "            vol=vol_obj.data, \n",
    "            roi=roi_obj_int.data, \n",
    "            outliers=MEDinstance.params.process.outliers),\n",
    "            roi_obj_int.data\n",
    ").astype(int)"
   ]
  },
  {
   "cell_type": "markdown",
   "id": "662cd98f",
   "metadata": {},
   "source": [
    "Post-re-segmentation diagnostic features computation"
   ]
  },
  {
   "cell_type": "code",
   "execution_count": 13,
   "id": "0d902458",
   "metadata": {},
   "outputs": [],
   "source": [
    "# Post-resegmentation diagnostic features extraction:\n",
    "diag_re_seg = MEDimage.biomarkers.diagnostics.extract_all(vol_obj, roi_obj_int, roi_obj_morph, 'reSeg')\n",
    "\n",
    "# Update diagnostic Dict:\n",
    "MEDinstance.radiomics.image.update(\n",
    "    {'Diagnostics-resegmented': \n",
    "            {'scale' + str(MEDinstance.params.process.scale_non_text[0]): diag_re_seg}\n",
    "    })"
   ]
  },
  {
   "cell_type": "markdown",
   "id": "f45f8022",
   "metadata": {},
   "source": [
    "#### ROI extraction\n",
    "\n",
    "After re-segmentation, we extract the image volume that will be studied that is defined by the ROI intensity mask. Excluded voxels (Intensities outside ROI) will be replaced by *NaN* and voxels included in the ROI mask retain their original intensity as shows the figure below.\n",
    "\n",
    "<img src=\"https://ibsi.readthedocs.io/en/latest/_images/roi_extraction.png\" alt=\" ROI extraction example\" style=\"width:500px;\"/>\n"
   ]
  },
  {
   "cell_type": "code",
   "execution_count": 14,
   "id": "10e53618",
   "metadata": {},
   "outputs": [],
   "source": [
    "vol_int_re = MEDimage.processing.roi_extract(\n",
    "            vol=vol_obj.data, \n",
    "            roi=roi_obj_int.data\n",
    "        )"
   ]
  },
  {
   "cell_type": "markdown",
   "id": "bcb75c78",
   "metadata": {},
   "source": [
    "We can check the change of intensity range before and after re-segmentation. The max and min should respect the re-segmentation range defined in the settings and the outlier range defined by the outlier re-seg algorithm. For example : in configuration A, the re-segmentation range is [-500, 400] so the intensities min and the intensities max should not be lower or higher than -500 and 400 respectively"
   ]
  },
  {
   "cell_type": "code",
   "execution_count": 15,
   "id": "1bb960bf",
   "metadata": {},
   "outputs": [
    {
     "name": "stdout",
     "output_type": "stream",
     "text": [
      "Desired re-segmentation range (Config E): [-1000, 400]\n",
      "Desired re-segmentation outlier range (Config E): [646.9928321838379, -743.6982383728027]\n",
      "Intensity range before, min:-1000.0 max:3065.0\n",
      "Intensity range after, min:-743.0 max:345.0\n"
     ]
    }
   ],
   "source": [
    "# Desired re-segmentation range\n",
    "print(f'Desired re-segmentation range (Config {CONFIG}): {MEDinstance.params.process.im_range}')\n",
    "\n",
    "print(f'Desired re-segmentation outlier range (Config {CONFIG}): {outlier_range}')\n",
    "\n",
    "# Intensity range before re-segmentation\n",
    "print(f'Intensity range before, min:{np.min(vol_obj_init.data)} max:{np.max(vol_obj_init.data)}')\n",
    "\n",
    "# Intensity range after re-segmentation\n",
    "print(f'Intensity range after, min:{np.nanmin(vol_int_re)} max:{np.nanmax(vol_int_re)}')"
   ]
  },
  {
   "cell_type": "markdown",
   "id": "a8d28e23",
   "metadata": {},
   "source": [
    "Initialization of all the computation parameters for NON-TEXTURE FEATURES."
   ]
  },
  {
   "cell_type": "code",
   "execution_count": 16,
   "id": "111ccce2",
   "metadata": {},
   "outputs": [],
   "source": [
    "# Preparation of computation:\n",
    "MEDinstance.init_ntf_calculation(vol_obj)"
   ]
  },
  {
   "cell_type": "markdown",
   "id": "bae4f8fe",
   "metadata": {},
   "source": [
    "### Non-Texture Features extraction\n",
    "In this section we extract the following families of features using ``biomarkers`` subpackage methods: \n",
    "\n",
    "*morphological features, local intensity, statistical, Intensity-based and intensity histogram-based.*\n",
    "\n",
    "Further image processing is required for some features."
   ]
  },
  {
   "cell_type": "markdown",
   "id": "4209288c",
   "metadata": {},
   "source": [
    "#### Morphological features\n",
    "\n",
    "Morphological features describe geometric aspects of a region of interest (ROI), such as area and\n",
    "volume. Morphological features are based on ROI voxel representations of the volume."
   ]
  },
  {
   "cell_type": "code",
   "execution_count": 17,
   "id": "85e33003",
   "metadata": {},
   "outputs": [],
   "source": [
    "morph = MEDimage.biomarkers.morph.extract_all(\n",
    "            vol=vol_obj.data, \n",
    "            mask_int=roi_obj_int.data, \n",
    "            mask_morph=roi_obj_morph.data,\n",
    "            res=MEDinstance.params.process.scale_non_text,\n",
    "            intensity_type=\"definite\"\n",
    "        )"
   ]
  },
  {
   "cell_type": "markdown",
   "id": "f0bd85ed",
   "metadata": {},
   "source": [
    "#### Local intensity features\n",
    "\n",
    "Voxel intensities within a defined neighborhood around a center voxel are used to compute local\n",
    "intensity features. By definition, local intensity features are calculated in 3D, and not per slice."
   ]
  },
  {
   "cell_type": "code",
   "execution_count": 18,
   "id": "b7455697",
   "metadata": {},
   "outputs": [],
   "source": [
    "local_intensity = MEDimage.biomarkers.local_intensity.extract_all(\n",
    "            img_obj=vol_obj.data,\n",
    "            roi_obj=roi_obj_int.data,\n",
    "            res=MEDinstance.params.process.scale_non_text,\n",
    "            intensity_type=\"definite\"\n",
    "        )"
   ]
  },
  {
   "cell_type": "markdown",
   "id": "8ba00a82",
   "metadata": {},
   "source": [
    "#### Intensity-based statistical features\n",
    "\n",
    "The intensity-based statistical features describe how intensities within the region of interest (ROI)\n",
    "are distributed. The features in this set do not require discretization, and may be used to describe\n",
    "a continuous intensity distribution."
   ]
  },
  {
   "cell_type": "code",
   "execution_count": 19,
   "id": "114c762d",
   "metadata": {},
   "outputs": [],
   "source": [
    "stats = MEDimage.biomarkers.stats.extract_all(vol=vol_int_re, intensity_type=\"definite\")"
   ]
  },
  {
   "cell_type": "markdown",
   "id": "d31e15f3",
   "metadata": {},
   "source": [
    "#### Intensity discretisation\n",
    "\n",
    "As mentioned before, further processing is required for some non-texture features. The last processing step is intensity discretization. Two approaches can be used : Fixed bin size (FBS) or Fixed bin number (FBN).\n",
    "- FBS : intensities are discretized to a fixed number of bins.\n",
    "- FBN : intensities are discretized to a fixed size of bins.\n",
    "\n",
    "The figure below shows Discretization of two different PET images with SUVmax of 27.8 (A) and 6.6 (B). *Fixed bin number* discretization adjust the contrast between the two images, with the number of bins determining the coarseness of the discretized image. *Fixed bin size discretization* leaves the contrast differences between image A and B intact. Increasing the bin size increases the coarseness of the discretized image.\n",
    "\n",
    "<img src=\"https://ibsi.readthedocs.io/en/latest/_images/discretisation.png\" alt=\" discretization example\" style=\"width:500px;\"/>\n",
    "\n",
    "Read more about discretization : [Intensity discretization](https://arxiv.org/pdf/1612.07003.pdf#section.2.7)"
   ]
  },
  {
   "cell_type": "code",
   "execution_count": 20,
   "id": "5817ae60",
   "metadata": {},
   "outputs": [],
   "source": [
    "vol_quant_re, _ = MEDimage.processing.discretisation.discretize(\n",
    "            vol_re=vol_int_re,\n",
    "            discr_type=MEDinstance.params.process.ih['type'], \n",
    "            n_q=MEDinstance.params.process.ih['val'], \n",
    "            user_set_min_val=MEDinstance.params.process.user_set_min_value\n",
    "        )"
   ]
  },
  {
   "cell_type": "markdown",
   "id": "f316891a",
   "metadata": {},
   "source": [
    "#### Intensity histogram features\n",
    "\n",
    "An intensity histogram is generated by discretizing the original intensity distribution into\n",
    "intensity bins."
   ]
  },
  {
   "cell_type": "code",
   "execution_count": 21,
   "id": "2833f328",
   "metadata": {},
   "outputs": [],
   "source": [
    "int_hist = MEDimage.biomarkers.intensity_histogram.extract_all(\n",
    "            vol=vol_quant_re\n",
    "        )"
   ]
  },
  {
   "cell_type": "markdown",
   "id": "ac52e085",
   "metadata": {},
   "source": [
    "#### Intensity-volume histogram features\n",
    "\n",
    "The (cumulative) intensity-volume histogram (IVH) of the set of voxel intensities in the ROI\n",
    "intensity mask describes the relationship between discretized intensity and the fraction of the\n",
    "volume containing at least intensity the same intensity.\n",
    "\n",
    "IVH features computation doesn't share the same discretization parameters, so we discretize a second time using the IVH discretization parameters and the discretization interval *wd* should be provided this time."
   ]
  },
  {
   "cell_type": "code",
   "execution_count": 22,
   "id": "9824f2d5",
   "metadata": {},
   "outputs": [],
   "source": [
    "if MEDinstance.params.process.ivh and 'type' in MEDinstance.params.process.ivh and 'val' in MEDinstance.params.process.ivh:\n",
    "    if MEDinstance.params.process.ivh['type'] and MEDinstance.params.process.ivh['val']:\n",
    "        vol_quant_re, wd = MEDimage.processing.discretize(\n",
    "                vol_re=vol_int_re,\n",
    "                discr_type=MEDinstance.params.process.ivh['type'], \n",
    "                n_q=MEDinstance.params.process.ivh['val'], \n",
    "                user_set_min_val=MEDinstance.params.process.user_set_min_value,\n",
    "                ivh=True\n",
    "        )\n",
    "else:\n",
    "    vol_quant_re = vol_int_re\n",
    "    wd = 1"
   ]
  },
  {
   "cell_type": "markdown",
   "id": "168350ea",
   "metadata": {},
   "source": [
    "Now we can extract the IVH features"
   ]
  },
  {
   "cell_type": "code",
   "execution_count": 23,
   "id": "0238fc69",
   "metadata": {},
   "outputs": [],
   "source": [
    "int_vol_hist = MEDimage.biomarkers.int_vol_hist.extract_all(\n",
    "                    medscan=MEDinstance,\n",
    "                    vol=vol_quant_re,\n",
    "                    vol_int_re=vol_int_re, \n",
    "                    wd=wd\n",
    "        )"
   ]
  },
  {
   "cell_type": "markdown",
   "id": "10a30d06",
   "metadata": {},
   "source": [
    "#### Texture Features extraction\n",
    "\n",
    "In this section, for each text scale<sup>1</sup>, for each discretization algorithm<sup>2</sup> and for each grey level<sup>3</sup> we extract the matrix-based features using ``biomarkers`` methods : \n",
    "\n",
    "*Grey level co-occurrence based features (GLCM), grey level run length based features (GLRLM), grey level size zone matrix (GLSZM), grey level distance zone matrix (GLDZM), neighborhood grey tone difference matrix (NGTDM) and neighboring grey level dependence matrix (NGLDM).*\n",
    "\n",
    "All the processing done in this section is the same as last section, but with different parameters (For example : discretization algorithms may be different for texture features).\n",
    "\n",
    "After the computation is finished, we update the radiomics structure (update the attributes made to save the results) \n",
    "\n",
    "<sup>1</sup> For each time we resample the voxel spacing (In this case we resample the voxel spacing more than one time).\n",
    "\n",
    "<sup>2</sup> Many discretization algorithm can be given and features will be computed for each one of them.\n",
    "\n",
    "<sup>3</sup> For each discrete intensity.\n",
    "\n",
    "**PS**: For GLCM and GLRLM features, merging method may differ from configuration to another (*merged* or *averaged*). You can change the method using the keyworded argument *glcm_merge_method*, *glrlm_merge_method* in the functions *getGLCMfeatures()* and *getGLRLMfeatures()* respectively."
   ]
  },
  {
   "cell_type": "code",
   "execution_count": 24,
   "id": "e090da0a",
   "metadata": {},
   "outputs": [],
   "source": [
    "from itertools import product\n",
    "\n",
    "# Compute radiomics features for each scale text\n",
    "count = 0\n",
    "for s in range(MEDinstance.params.process.n_scale):\n",
    "    # Interpolation\n",
    "    # Intensity Mask\n",
    "    vol_obj = MEDimage.processing.interp_volume(\n",
    "        medscan=MEDinstance,\n",
    "        vol_obj_s=vol_obj_init,\n",
    "        vox_dim=MEDinstance.params.process.scale_text[s],\n",
    "        interp_met=MEDinstance.params.process.vol_interp,\n",
    "        round_val=MEDinstance.params.process.gl_round,\n",
    "        image_type='image', \n",
    "        roi_obj_s=roi_obj_init,\n",
    "        box_string=MEDinstance.params.process.box_string\n",
    "    )\n",
    "    # Morphological Mask\n",
    "    roi_obj_morph = MEDimage.processing.interp_volume(\n",
    "        medscan=MEDinstance,\n",
    "        vol_obj_s=roi_obj_init,\n",
    "        vox_dim=MEDinstance.params.process.scale_text[s],\n",
    "        interp_met=MEDinstance.params.process.roi_interp,\n",
    "        round_val=MEDinstance.params.process.roi_pv, \n",
    "        image_type='roi', \n",
    "        roi_obj_s=roi_obj_init,\n",
    "        box_string=MEDinstance.params.process.box_string\n",
    "    )\n",
    "\n",
    "    # Re-segmentation\n",
    "    # Intensity mask range re-segmentation\n",
    "    roi_obj_int = deepcopy(roi_obj_morph)\n",
    "    roi_obj_int.data = MEDimage.processing.range_re_seg(\n",
    "        vol=vol_obj.data, \n",
    "        roi=roi_obj_int.data,\n",
    "        im_range=MEDinstance.params.process.im_range\n",
    "    )\n",
    "    # Intensity mask outlier re-segmentation\n",
    "    roi_obj_int.data = np.logical_and(\n",
    "        MEDimage.processing.outlier_re_seg(\n",
    "            vol=vol_obj.data, \n",
    "            roi=roi_obj_int.data, \n",
    "            outliers=MEDinstance.params.process.outliers\n",
    "        ),\n",
    "        roi_obj_int.data\n",
    "    ).astype(int)\n",
    "\n",
    "    # Compute features for each discretisation algorithm and for each grey-level  \n",
    "    for a, n in product(range(MEDinstance.params.process.n_algo), range(MEDinstance.params.process.n_gl)):\n",
    "        count += 1 \n",
    "        # Preparation of computation :\n",
    "        MEDinstance.init_tf_calculation(algo=a, gl=n, scale=s)\n",
    "\n",
    "        # ROI Extraction :\n",
    "        vol_int_re = MEDimage.processing.roi_extract(\n",
    "            vol=vol_obj.data, \n",
    "            roi=roi_obj_int.data)\n",
    "\n",
    "        # Discretisation :\n",
    "        vol_quant_re, _ = MEDimage.processing.discretize(\n",
    "            vol_re=vol_int_re,\n",
    "            discr_type=MEDinstance.params.process.algo[a], \n",
    "            n_q=MEDinstance.params.process.gray_levels[a][n], \n",
    "            user_set_min_val=MEDinstance.params.process.user_set_min_value\n",
    "        )\n",
    "\n",
    "        # GLCM features extraction\n",
    "        glcm = MEDimage.biomarkers.glcm.extract_all(\n",
    "            vol=vol_quant_re, \n",
    "            dist_correction=MEDinstance.params.radiomics.glcm.dist_correction)\n",
    "\n",
    "        # GLRLM features extraction\n",
    "        glrlm = MEDimage.biomarkers.glrlm.extract_all(\n",
    "            vol=vol_quant_re,\n",
    "            dist_correction=MEDinstance.params.radiomics.glrlm.dist_correction)\n",
    "\n",
    "        # GLSZM features extraction\n",
    "        glszm = MEDimage.biomarkers.glszm.extract_all(\n",
    "            vol=vol_quant_re)\n",
    "\n",
    "        # GLDZM features extraction\n",
    "        gldzm = MEDimage.biomarkers.gldzm.extract_all(\n",
    "            vol_int=vol_quant_re, \n",
    "            mask_morph=roi_obj_morph.data)\n",
    "\n",
    "        # NGTDM features extraction\n",
    "        ngtdm = MEDimage.biomarkers.ngtdm.extract_all(\n",
    "            vol=vol_quant_re, \n",
    "            dist_correction=MEDinstance.params.radiomics.ngtdm.dist_correction)\n",
    "\n",
    "        # NGLDM features extraction\n",
    "        ngldm = MEDimage.biomarkers.ngldm.extract_all(\n",
    "            vol=vol_quant_re)\n",
    "\n",
    "        # Update radiomics results class\n",
    "        MEDinstance.update_radiomics(\n",
    "                        int_vol_hist_features=int_vol_hist, \n",
    "                        morph_features=morph,\n",
    "                        loc_int_features=local_intensity, \n",
    "                        stats_features=stats, \n",
    "                        int_hist_features=int_hist,\n",
    "                        glcm_features=glcm, \n",
    "                        glrlm_features=glrlm, \n",
    "                        glszm_features=glszm, \n",
    "                        gldzm_features=gldzm, \n",
    "                        ngtdm_features=ngtdm, \n",
    "                        ngldm_features=ngldm\n",
    "                    )"
   ]
  },
  {
   "cell_type": "markdown",
   "id": "d1981d88",
   "metadata": {},
   "source": [
    "Finally we print the results"
   ]
  },
  {
   "cell_type": "code",
   "execution_count": 25,
   "id": "5df4fc22",
   "metadata": {},
   "outputs": [
    {
     "name": "stdout",
     "output_type": "stream",
     "text": [
      "{\n",
      "    \"Diagnostics-initial\": {\n",
      "        \"scale2\": {\n",
      "            \"image_initial_dimX\": 204,\n",
      "            \"image_initial_dimY\": 201,\n",
      "            \"image_initial_dimz\": 60,\n",
      "            \"image_initial_voxDimX\": 0.9769999980926514,\n",
      "            \"image_initial_voxDimY\": 0.9769999980926514,\n",
      "            \"image_initial_voxDimZ\": 3.0,\n",
      "            \"image_initial_meanInt\": -266.4704895019531,\n",
      "            \"image_initial_minInt\": -1000.0,\n",
      "            \"image_initial_maxInt\": 3065.0,\n",
      "            \"roi_initial_Int_dimX\": 204,\n",
      "            \"roi_initial_Int_dimY\": 201,\n",
      "            \"roi_initial_Int_dimZ\": 60,\n",
      "            \"roi_initial_Int_boxBoundDimX\": 100,\n",
      "            \"roi_initial_Int_boxBoundDimY\": 99,\n",
      "            \"roi_initial_Int_boxBoundDimZ\": 26,\n",
      "            \"roi_initial_Morph_boxBoundDimX\": 100,\n",
      "            \"roi_initial_Morph_boxBoundDimY\": 99,\n",
      "            \"roi_initial_Morph_boxBoundDimZ\": 26,\n",
      "            \"roi_initial_Int_voxNumb\": 125256,\n",
      "            \"roi_initial_Morph_voxNumb\": 125256,\n",
      "            \"roi_initial_meanInt\": -46.882720947265625,\n",
      "            \"roi_initial_minInt\": -1000.0,\n",
      "            \"roi_initial_maxInt\": 723.0\n",
      "        }\n",
      "    },\n",
      "    \"Diagnostics-interpolated\": {\n",
      "        \"scale2\": {\n",
      "            \"image_interp_dimX\": 100,\n",
      "            \"image_interp_dimY\": 99,\n",
      "            \"image_interp_dimz\": 90,\n",
      "            \"image_interp_voxDimX\": 2,\n",
      "            \"image_interp_voxDimY\": 2,\n",
      "            \"image_interp_voxDimZ\": 2,\n",
      "            \"image_interp_meanInt\": -270.0065612792969,\n",
      "            \"image_interp_minInt\": -1111.0,\n",
      "            \"image_interp_maxInt\": 2637.0,\n",
      "            \"roi_interp_Int_dimX\": 100,\n",
      "            \"roi_interp_Int_dimY\": 99,\n",
      "            \"roi_interp_Int_dimZ\": 90,\n",
      "            \"roi_interp_Int_boxBoundDimX\": 49,\n",
      "            \"roi_interp_Int_boxBoundDimY\": 49,\n",
      "            \"roi_interp_Int_boxBoundDimZ\": 40,\n",
      "            \"roi_interp_Morph_boxBoundDimX\": 49,\n",
      "            \"roi_interp_Morph_boxBoundDimY\": 49,\n",
      "            \"roi_interp_Morph_boxBoundDimZ\": 40,\n",
      "            \"roi_interp_Int_voxNumb\": 45985,\n",
      "            \"roi_interp_Morph_voxNumb\": 45985,\n",
      "            \"roi_interp_meanInt\": -48.278438568115234,\n",
      "            \"roi_interp_minInt\": -966.0,\n",
      "            \"roi_interp_maxInt\": 627.0\n",
      "        }\n",
      "    },\n",
      "    \"Diagnostics-resegmented\": {\n",
      "        \"scale2\": {\n",
      "            \"roi_reSeg_Int_dimX\": 100,\n",
      "            \"roi_reSeg_Int_dimY\": 99,\n",
      "            \"roi_reSeg_Int_dimZ\": 90,\n",
      "            \"roi_reSeg_Int_boxBoundDimX\": 49,\n",
      "            \"roi_reSeg_Int_boxBoundDimY\": 49,\n",
      "            \"roi_reSeg_Int_boxBoundDimZ\": 40,\n",
      "            \"roi_reSeg_Morph_boxBoundDimX\": 49,\n",
      "            \"roi_reSeg_Morph_boxBoundDimY\": 49,\n",
      "            \"roi_reSeg_Morph_boxBoundDimZ\": 40,\n",
      "            \"roi_reSeg_Int_voxNumb\": 44484,\n",
      "            \"roi_reSeg_Morph_voxNumb\": 45985,\n",
      "            \"roi_reSeg_meanInt\": -22.625730514526367,\n",
      "            \"roi_reSeg_minInt\": -743.0,\n",
      "            \"roi_reSeg_maxInt\": 345.0\n",
      "        }\n",
      "    },\n",
      "    \"morph_3D\": {\n",
      "        \"scale2\": {\n",
      "            \"Fmorph_vol\": 367459.0,\n",
      "            \"Fmorph_approx_vol\": 367880.0,\n",
      "            \"Fmorph_area\": 34306.25200746319,\n",
      "            \"Fmorph_av\": 0.09336076135694918,\n",
      "            \"Fmorph_comp_1\": 0.032626767049783005,\n",
      "            \"Fmorph_comp_2\": 0.37822508615400535,\n",
      "            \"Fmorph_sph_dispr\": 1.38276981259335,\n",
      "            \"Fmorph_sphericity\": 0.7231861665569087,\n",
      "            \"Fmorph_asphericity\": 0.3827698125933494,\n",
      "            \"Fmorph_com\": 68.53997705762669,\n",
      "            \"Fmorph_diam\": 125.05998560690786,\n",
      "            \"Fmorph_pca_major\": 93.27035347558969,\n",
      "            \"Fmorph_pca_minor\": 82.00519180391295,\n",
      "            \"Fmorph_pca_least\": 70.90152846941119,\n",
      "            \"Fmorph_pca_elongation\": 0.879220339026323,\n",
      "            \"Fmorph_pca_flatness\": 0.7601721857735559,\n",
      "            \"Fmorph_v_dens_aabb\": 0.47826296334860474,\n",
      "            \"Fmorph_a_dens_aabb\": 0.6784182092917099,\n",
      "            \"Fmorph_v_dens_ombb\": 0.4920510501195718,\n",
      "            \"Fmorph_a_dens_ombb\": 0.6918245430188453,\n",
      "            \"Fmorph_v_dens_aee\": 1.2941055431955213,\n",
      "            \"Fmorph_a_dens_aee\": 1.6167546557562238,\n",
      "            \"Fmorph_v_dens_mvee\": 0.3233816243947214,\n",
      "            \"Fmorph_a_dens_mvee\": 0.6181651987893297,\n",
      "            \"Fmorph_v_dens_conv_hull\": 0.8336688547401527,\n",
      "            \"Fmorph_a_dens_conv_hull\": 1.1301335281187814,\n",
      "            \"Fmorph_integ_int\": -8314028.309137344,\n",
      "            \"Fmorph_moran_i\": [],\n",
      "            \"Fmorph_geary_c\": []\n",
      "        }\n",
      "    },\n",
      "    \"locInt_3D\": {\n",
      "        \"scale2\": {\n",
      "            \"Floc_peak_local\": 180.8455352783203,\n",
      "            \"Floc_peak_global\": []\n",
      "        }\n",
      "    },\n",
      "    \"stats_3D\": {\n",
      "        \"scale2\": {\n",
      "            \"Fstat_mean\": -22.625730514526367,\n",
      "            \"Fstat_var\": 35098.3359375,\n",
      "            \"Fstat_skew\": -2.300511885948537,\n",
      "            \"Fstat_kurt\": 4.441029137337315,\n",
      "            \"Fstat_median\": 43.0,\n",
      "            \"Fstat_min\": -743.0,\n",
      "            \"Fstat_P10\": -310.0,\n",
      "            \"Fstat_P90\": 93.0,\n",
      "            \"Fstat_max\": 345.0,\n",
      "            \"Fstat_iqr\": 62.0,\n",
      "            \"Fstat_range\": 1088.0,\n",
      "            \"Fstat_mad\": 125.32220458984375,\n",
      "            \"Fstat_rmad\": 46.45089340209961,\n",
      "            \"Fstat_medad\": 97.86869812011719,\n",
      "            \"Fstat_cov\": -8.280197143554688,\n",
      "            \"Fstat_qcod\": 0.7948717948717948,\n",
      "            \"Fstat_energy\": 1584086912.0,\n",
      "            \"Fstat_rms\": 188.70681762695312\n",
      "        }\n",
      "    },\n",
      "    \"intHist_3D\": {\n",
      "        \"scale2_algoFBN_bin32\": {\n",
      "            \"Fih_mean\": 21.704657854509485,\n",
      "            \"Fih_var\": 30.423653333615356,\n",
      "            \"Fih_skew\": -2.2894338543765738,\n",
      "            \"Fih_kurt\": 4.4049752777262245,\n",
      "            \"Fih_median\": 24.0,\n",
      "            \"Fih_min\": 1.0,\n",
      "            \"Fih_P10\": 13.0,\n",
      "            \"Fih_P90\": 25.0,\n",
      "            \"Fih_max\": 32.0,\n",
      "            \"Fih_mode\": 24,\n",
      "            \"Fih_iqr\": 1.0,\n",
      "            \"Fih_range\": 31.0,\n",
      "            \"Fih_mad\": 3.687774419784546,\n",
      "            \"Fih_rmad\": 1.4554065465927124,\n",
      "            \"Fih_medad\": 2.893399953842163,\n",
      "            \"Fih_cov\": 0.2541281282901764,\n",
      "            \"Fih_qcod\": 0.02127659574468085,\n",
      "            \"Fih_entropy\": 3.2214257580294428,\n",
      "            \"Fih_uniformity\": 0.18361848540178255,\n",
      "            \"Fih_max_grad\": 6010.0,\n",
      "            \"Fih_max_grad_gl\": 23.0,\n",
      "            \"Fih_min_grad\": -6110.0,\n",
      "            \"Fih_min_grad_gl\": 25.0\n",
      "        }\n",
      "    },\n",
      "    \"intVolHist_3D\": {\n",
      "        \"scale2_algoFBN_bin1000\": {\n",
      "            \"Fivh_V10\": 0.9745526481431526,\n",
      "            \"Fivh_V90\": 0.0001573599496448308,\n",
      "            \"Fivh_I10\": 770.0,\n",
      "            \"Fivh_I90\": 399.0,\n",
      "            \"Fivh_V10minusV90\": 0.9743952881935077,\n",
      "            \"Fivh_I10minusI90\": 371.0,\n",
      "            \"Fivh_auc\": 0.6627748713554847\n",
      "        }\n",
      "    },\n",
      "    \"texture\": {\n",
      "        \"glcm_3D_comb\": {\n",
      "            \"scale2_algoFBN_bin32\": {\n",
      "                \"Fcm_joint_max\": 0.1531235880682822,\n",
      "                \"Fcm_joint_avg\": 22.131246664819734,\n",
      "                \"Fcm_joint_var\": 24.443078462821134,\n",
      "                \"Fcm_joint_entr\": 5.614319420020524,\n",
      "                \"Fcm_diff_avg\": 1.6957348738534885,\n",
      "                \"Fcm_diff_var\": 8.233951523867587,\n",
      "                \"Fcm_diff_entr\": 2.3980025136447827,\n",
      "                \"Fcm_sum_avg\": 44.262493329639454,\n",
      "                \"Fcm_sum_var\": 86.66284556501405,\n",
      "                \"Fcm_sum_entr\": 3.9668637369469475,\n",
      "                \"Fcm_energy\": 0.06352617010972363,\n",
      "                \"Fcm_contrast\": 11.109468286270491,\n",
      "                \"Fcm_dissimilarity\": 1.695734873853488,\n",
      "                \"Fcm_inv_diff\": 0.6082755338991658,\n",
      "                \"Fcm_inv_diff_norm\": 0.9552065413400331,\n",
      "                \"Fcm_inv_diff_mom\": 0.5767622903404398,\n",
      "                \"Fcm_inv_diff_mom_norm\": 0.99046475887061,\n",
      "                \"Fcm_inv_var\": 0.4100437224053521,\n",
      "                \"Fcm_corr\": 0.7727481768884318,\n",
      "                \"Fcm_auto_corr\": 508.68042325878025,\n",
      "                \"Fcm_clust_tend\": 86.66284556501405,\n",
      "                \"Fcm_clust_shade\": -2076.080064910883,\n",
      "                \"Fcm_clust_prom\": 69042.63437663806,\n",
      "                \"Fcm_info_corr1\": -0.17540203436909188,\n",
      "                \"Fcm_info_corr2\": 0.8125336350863641\n",
      "            }\n",
      "        },\n",
      "        \"glrlm_3D_comb\": {\n",
      "            \"scale2_algoFBN_bin32\": {\n",
      "                \"Frlm_sre\": 0.7770926417631508,\n",
      "                \"Frlm_lre\": 3.5221145805927265,\n",
      "                \"Frlm_lgre\": 0.020351563479856845,\n",
      "                \"Frlm_hgre\": 471.3788979569509,\n",
      "                \"Frlm_srlge\": 0.018648260135404784,\n",
      "                \"Frlm_srhge\": 347.18233724976375,\n",
      "                \"Frlm_lrlge\": 0.03114896513340063,\n",
      "                \"Frlm_lrhge\": 1888.7850330956767,\n",
      "                \"Frlm_glnu\": 51949.118482782695,\n",
      "                \"Frlm_glnu_norm\": 0.13532398461730324,\n",
      "                \"Frlm_rlnu\": 215058.78889621166,\n",
      "                \"Frlm_rlnu_norm\": 0.5602137839942787,\n",
      "                \"Frlm_r_perc\": 0.6638289998824124,\n",
      "                \"Frlm_gl_var\": 39.72257614772427,\n",
      "                \"Frlm_rl_var\": 1.2528373369138373,\n",
      "                \"Frlm_rl_entr\": 4.870509794894913\n",
      "            }\n",
      "        },\n",
      "        \"glszm_3D\": {\n",
      "            \"scale2_algoFBN_bin32\": {\n",
      "                \"Fszm_sze\": 0.676399479482647,\n",
      "                \"Fszm_lze\": 58563.98497047772,\n",
      "                \"Fszm_lgze\": 0.03400006559226447,\n",
      "                \"Fszm_hgze\": 285.8554303095366,\n",
      "                \"Fszm_szlge\": 0.0224346411463456,\n",
      "                \"Fszm_szhge\": 186.01602296949463,\n",
      "                \"Fszm_lzlge\": 105.02282568450347,\n",
      "                \"Fszm_lzhge\": 33559401.882626586,\n",
      "                \"Fszm_glnu\": 231.26086956521743,\n",
      "                \"Fszm_glnu_norm\": 0.04137786179374082,\n",
      "                \"Fszm_zsnu\": 2367.8516729289677,\n",
      "                \"Fszm_zsnu_norm\": 0.4236628507656052,\n",
      "                \"Fszm_z_perc\": 0.12564067979498247,\n",
      "                \"Fszm_gl_var\": 50.79918568158494,\n",
      "                \"Fszm_zs_var\": 58500.63601697491,\n",
      "                \"Fszm_zs_entr\": 6.565249707517884\n",
      "            }\n",
      "        },\n",
      "        \"gldzm_3D\": {\n",
      "            \"scale2_algoFBN_bin32\": {\n",
      "                \"Fdzm_sde\": 0.5268698697360265,\n",
      "                \"Fdzm_lde\": 12.566648774378244,\n",
      "                \"Fdzm_lgze\": 0.034000065592264476,\n",
      "                \"Fdzm_hgze\": 285.8554303095366,\n",
      "                \"Fdzm_sdlge\": 0.02276164874730101,\n",
      "                \"Fdzm_sdhge\": 136.23566296100267,\n",
      "                \"Fdzm_ldlge\": 0.17853239213617386,\n",
      "                \"Fdzm_ldhge\": 4853.950438361066,\n",
      "                \"Fdzm_glnu\": 231.2608695652174,\n",
      "                \"Fdzm_glnu_norm\": 0.04137786179374081,\n",
      "                \"Fdzm_zdnu\": 1502.7133655394525,\n",
      "                \"Fdzm_zdnu_norm\": 0.2688698095436487,\n",
      "                \"Fdzm_z_perc\": 0.12564067979498247,\n",
      "                \"Fdzm_gl_var\": 50.799185681584945,\n",
      "                \"Fdzm_zd_var\": 5.557276467805519,\n",
      "                \"Fdzm_zd_entr\": 7.063689486476099\n",
      "            }\n",
      "        },\n",
      "        \"ngtdm_3D\": {\n",
      "            \"scale2_algoFBN_bin32\": {\n",
      "                \"Fngt_coarseness\": 0.00018848667505183943,\n",
      "                \"Fngt_contrast\": 0.07524651780609343,\n",
      "                \"Fngt_busyness\": 4.649678093799287,\n",
      "                \"Fngt_complexity\": 574.2282207569658,\n",
      "                \"Fngt_strength\": 0.1674296621768597\n",
      "            }\n",
      "        },\n",
      "        \"ngldm_3D\": {\n",
      "            \"scale2_algoFBN_bin32\": {\n",
      "                \"Fngl_lde\": 0.11823154697118478,\n",
      "                \"Fngl_hde\": 134.3185414980667,\n",
      "                \"Fngl_lgce\": 0.015389499407889995,\n",
      "                \"Fngl_hgce\": 501.5158259149357,\n",
      "                \"Fngl_ldlge\": 0.0038829433509822387,\n",
      "                \"Fngl_ldhge\": 36.65897286341409,\n",
      "                \"Fngl_hdlge\": 0.45668232528517105,\n",
      "                \"Fngl_hdhge\": 76003.5803434943,\n",
      "                \"Fngl_glnu\": 8168.084704612895,\n",
      "                \"Fngl_glnu_norm\": 0.18361848540178255,\n",
      "                \"Fngl_dcnu\": 2246.5056199982014,\n",
      "                \"Fngl_dcnu_norm\": 0.050501430177101916,\n",
      "                \"Fngl_gl_var\": 30.423653333615356,\n",
      "                \"Fngl_dc_var\": 39.4422531595922,\n",
      "                \"Fngl_dc_entr\": 7.064259595644302,\n",
      "                \"Fngl_dc_energy\": 0.01062212406787471\n",
      "            }\n",
      "        }\n",
      "    }\n",
      "}\n"
     ]
    }
   ],
   "source": [
    "from numpyencoder import NumpyEncoder\n",
    "from json import dumps\n",
    "\n",
    "print(dumps(MEDinstance.radiomics.image, indent=4, cls=NumpyEncoder))"
   ]
  },
  {
   "cell_type": "markdown",
   "id": "aa9c8e91",
   "metadata": {},
   "source": [
    "You can compare your results with other teams and check your level of consensus using the CSV provided [here](https://ibsi.radiomics.hevs.ch/assets/IBSI-1-submission-table.xlsx)"
   ]
  }
 ],
 "metadata": {
  "kernelspec": {
   "display_name": "medimage",
   "language": "python",
   "name": "medimage"
  },
  "language_info": {
   "codemirror_mode": {
    "name": "ipython",
    "version": 3
   },
   "file_extension": ".py",
   "mimetype": "text/x-python",
   "name": "python",
   "nbconvert_exporter": "python",
   "pygments_lexer": "ipython3",
   "version": "3.9.13"
  }
 },
 "nbformat": 4,
 "nbformat_minor": 5
}
