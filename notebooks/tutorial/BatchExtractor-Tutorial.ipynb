{
 "cells": [
  {
   "cell_type": "markdown",
   "id": "ecdbaa79",
   "metadata": {},
   "source": [
    "# Batch extraction Tutorial − Radiomics batch extraction using MEDimage package\n",
    "\n",
    "@Author : [MEDomics consortium](https://github.com/medomics/)\n",
    "\n",
    "@Email : medomics.info@gmail.com\n"
   ]
  },
  {
   "cell_type": "markdown",
   "id": "05880d2d",
   "metadata": {},
   "source": [
    "**STATEMENT**:\n",
    "This file is part of <https://github.com/MEDomics/MEDomicsLab/>,\n",
    "a package providing PYTHON programming tools for radiomics analysis.\n",
    "--> Copyright (C) MEDomicsLab consortium."
   ]
  },
  {
   "cell_type": "markdown",
   "id": "e1df9d32",
   "metadata": {},
   "source": [
    "## Introduction\n",
    "\n",
    "Running this notebook requires running the [DataManager-tutorial notebook](https://colab.research.google.com/github/MahdiAll99/MEDimage/blob/dev/notebooks/tutorial/DataManager-Tutorial.ipynb). We also recommend that you take a look at [MEDscan-Tutorial notebook](https://colab.research.google.com/github/MahdiAll99/MEDimage/blob/dev/notebooks/tutorial/MEDscan-Tutorial.ipynb) as well.\n",
    "\n",
    "This notebook is a tutorial of radiomics batch extraction using the *MEDimage* package and specifically the ``BatchExtractor`` class. For this task, the ``BatchExtractor`` class is the main object used to order scans and prepare batches and run processing and features extraction. The class extracts all type of family features and organizes the results in json files and csv tables.\n",
    "\n",
    "\n",
    "In a nutshell, This tutorial will help you learn everything you need about batch extraction in the *MEDimage package*. We also advise you to read the [class documentation](https://medimage.readthedocs.io/en/documentation/biomarkers.html#module-MEDimage.biomarkers.BatchExtractor) before starting to test it."
   ]
  },
  {
   "cell_type": "markdown",
   "id": "e8f546f4",
   "metadata": {},
   "source": [
    "The ``BatchExtractor`` class is capable of running all the steps in the following flowchart, starting from the MEDscan box. So the class takes care of all the steps of the processing and the extraction:\n",
    "\n",
    "<img src=\"images/MEDimageFlowchart.png\" width=600 height=400 />\n"
   ]
  },
  {
   "cell_type": "markdown",
   "id": "1a100b3c",
   "metadata": {},
   "source": [
    "### DICOM data\n",
    "\n",
    "In this tutorial we will use data from STS study (soft-tissue-sorcoma) processed by McGill institute, containing 204 scans with different scan types (PTscan, CTscan...). We assume that you have already processed these scans in the [DataManager-tutorial notebook]()."
   ]
  },
  {
   "cell_type": "markdown",
   "id": "369b4fdc",
   "metadata": {},
   "source": [
    "Imports"
   ]
  },
  {
   "cell_type": "code",
   "execution_count": 1,
   "id": "af05f061",
   "metadata": {},
   "outputs": [],
   "source": [
    "import os\n",
    "import sys\n",
    "\n",
    "MODULE_DIR = os.path.dirname(os.path.abspath('../MEDimage/'))\n",
    "sys.path.append(os.path.dirname(MODULE_DIR))\n",
    "\n",
    "import MEDimage"
   ]
  },
  {
   "cell_type": "markdown",
   "id": "99c504b8",
   "metadata": {},
   "source": [
    "## BatchExtractor initialization"
   ]
  },
  {
   "cell_type": "markdown",
   "id": "b3c11fc5",
   "metadata": {},
   "source": [
    "Initializing the ``BatchExtractor`` class is easy. It can be initialized using the following parameters:\n",
    " - ``path_read``: path to data (``MEDscan`` objects)\n",
    " - ``path_csv``: path to csv file containing list of the scans that will be processed by the ``BatchExtractor``\n",
    " - ``path_params``: path processing & extraction parameters JSON file.\n",
    " - ``path_save``: path to where the results are gonna be saved.\n",
    " - ``n_batch``:  Numerical value specifying the number of batch to use in the parallel computations (use 0 for serial computation).\n",
    " \n",
    "We recommend that you organize you folder as follows:\n",
    "\n",
    "<img src=\"images/BatchExtractionFolderStructure.png\"/>\n",
    "\n",
    "The *data* and the *csv* folder contains data for scans from McGill study and a CSV file of the scans that can be respectively downloaded [here](). As for the settings file, a model can be found in the repository."
   ]
  },
  {
   "cell_type": "markdown",
   "id": "237dec23",
   "metadata": {},
   "source": [
    "We will start by initializing the parameters needed."
   ]
  },
  {
   "cell_type": "code",
   "execution_count": 2,
   "id": "5ff7be32",
   "metadata": {},
   "outputs": [],
   "source": [
    "from pathlib import Path\n",
    "\n",
    "\n",
    "path_read = Path(os.getcwd()) / \"data\" / \"npy\"\n",
    "path_csv = Path(os.getcwd()) / \"CSV\"\n",
    "path_to_params = Path(os.getcwd()) / \"settings\" / \"MEDimage-Tutorial.json\"\n",
    "path_save = Path(os.getcwd())"
   ]
  },
  {
   "cell_type": "markdown",
   "id": "3e27af73",
   "metadata": {},
   "source": [
    "We will now initialize our class ``BatchExtractor``"
   ]
  },
  {
   "cell_type": "code",
   "execution_count": 3,
   "id": "1afd1975",
   "metadata": {},
   "outputs": [],
   "source": [
    "batch_extractor = MEDimage.biomarkers.BatchExtractor(\n",
    "                                    path_read=path_read,\n",
    "                                    path_csv=path_csv,\n",
    "                                    path_params=path_to_params,\n",
    "                                    path_save=path_save)"
   ]
  },
  {
   "cell_type": "markdown",
   "id": "94bc0482",
   "metadata": {},
   "source": [
    "We will now call ``compute_radiomics`` which is the method that does all the job for us (processing, extraction and saving). The ``compute_radiomics`` method takes only one optional boolean argument ``create_tables`` that specify if we need to create csv tables or stop at JSON files and by default it's ``True`` and we recommend it stays this way since JSON files are harder to go through."
   ]
  },
  {
   "cell_type": "code",
   "execution_count": 4,
   "id": "46bdf065",
   "metadata": {
    "scrolled": false
   },
   "outputs": [
    {
     "name": "stderr",
     "output_type": "stream",
     "text": [
      "2022-10-04 19:14:45,520\tINFO services.py:1090 -- View the Ray dashboard at \u001b[1m\u001b[32mhttp://127.0.0.1:8267\u001b[39m\u001b[22m\n"
     ]
    },
    {
     "name": "stdout",
     "output_type": "stream",
     "text": [
      "\n",
      " --> Computing features for the \"GTV\" roi type ..."
     ]
    },
    {
     "name": "stderr",
     "output_type": "stream",
     "text": [
      "100%|██████████| 204/204 [14:41<00:00,  4.32s/it]\n"
     ]
    },
    {
     "name": "stdout",
     "output_type": "stream",
     "text": [
      "DONE\n"
     ]
    },
    {
     "name": "stderr",
     "output_type": "stream",
     "text": [
      "100%|██████████| 4/4 [00:00<00:00, 10407.70it/s]"
     ]
    },
    {
     "name": "stdout",
     "output_type": "stream",
     "text": [
      "DONE\n"
     ]
    },
    {
     "name": "stderr",
     "output_type": "stream",
     "text": [
      "\n"
     ]
    }
   ],
   "source": [
    "batch_extractor.compute_radiomics()"
   ]
  },
  {
   "cell_type": "markdown",
   "id": "f95c8266",
   "metadata": {},
   "source": [
    "We should now have all the results (extracted features) saved in ``path_save`` in a folder called features."
   ]
  },
  {
   "cell_type": "markdown",
   "id": "e60ae053",
   "metadata": {},
   "source": [
    "## Extra: BatchExtractor class diagram"
   ]
  },
  {
   "cell_type": "markdown",
   "id": "85f3847a",
   "metadata": {},
   "source": [
    "To further understand the ``BatchExtractor`` class, you can take a look at the class diagram below that describes the structure of the class, attributes, methods and the relationships with other objects.\n",
    "\n",
    "<img src=\"images/BatchExtractionClassDiagram.png\"/>\n"
   ]
  },
  {
   "cell_type": "markdown",
   "id": "a02b07d2",
   "metadata": {},
   "source": [
    "### Common errors to avoid:\n",
    "\n",
    "- No CSV found: make sure you have the CSV file in the right folder (``path_csv``).\n",
    "- Bad settings file or wrong keywords use in json settings files: Make sure you have the right keywords in your json settings file in the right place, many json settings files are provided in the repository so use it as a template."
   ]
  }
 ],
 "metadata": {
  "kernelspec": {
   "display_name": "medimage",
   "language": "python",
   "name": "medimage"
  },
  "language_info": {
   "codemirror_mode": {
    "name": "ipython",
    "version": 3
   },
   "file_extension": ".py",
   "mimetype": "text/x-python",
   "name": "python",
   "nbconvert_exporter": "python",
   "pygments_lexer": "ipython3",
   "version": "3.8.10"
  }
 },
 "nbformat": 4,
 "nbformat_minor": 5
}
